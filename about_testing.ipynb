{
 "cells": [
  {
   "cell_type": "markdown",
   "metadata": {
    "slideshow": {
     "slide_type": "subslide"
    }
   },
   "source": [
    "# Computational Physics \n",
    "\n",
    "\n",
    "## More about Python : Functions and Classes\n",
    "\n",
    "\n",
    "#### *J.A. Hernando Morata*, in collaboration wtih *G. Martínez-Lema*, *M. Kekic*.\n",
    "####  USC, October 2020 \n",
    "\n",
    "\n",
    "\n",
    "## A primer on testing functions"
   ]
  },
  {
   "cell_type": "code",
   "execution_count": 18,
   "metadata": {
    "slideshow": {
     "slide_type": "fragment"
    }
   },
   "outputs": [
    {
     "name": "stdout",
     "output_type": "stream",
     "text": [
      " Last revision  Wed Oct  1 19:19:04 2025\n"
     ]
    }
   ],
   "source": [
    "import time \n",
    "print(' Last revision ', time.asctime())"
   ]
  },
  {
   "cell_type": "code",
   "execution_count": 19,
   "metadata": {
    "slideshow": {
     "slide_type": "slide"
    }
   },
   "outputs": [],
   "source": [
    "# general imports\n",
    "%matplotlib inline\n",
    "\n",
    "# the general imports\n",
    "import numpy as np\n",
    "import pandas as pd\n",
    "import matplotlib\n",
    "import matplotlib.pyplot as plt\n",
    "# possible styles: ggplot (simplicity), bmh (scientify data), \n",
    "matplotlib.style.use('ggplot')"
   ]
  },
  {
   "cell_type": "markdown",
   "metadata": {
    "slideshow": {
     "slide_type": "slide"
    }
   },
   "source": [
    "## 1. Testing a functions\n",
    "\n",
    "It is a good practice to write a set of tests to check that a function does what is expected to do.\n",
    "\n",
    "For the *fib* function we can make a test function. \n",
    "\n",
    "Usually we define test functions as: *test_function*"
   ]
  },
  {
   "cell_type": "code",
   "execution_count": 3,
   "metadata": {
    "slideshow": {
     "slide_type": "slide"
    }
   },
   "outputs": [],
   "source": [
    "def fib(n):\n",
    "    \"\"\" returns a list with the first n numbers of the Fibonacci serie\n",
    "    \"\"\"\n",
    "    ns = [0, 1]\n",
    "     \n",
    "    for i in range(2, n):\n",
    "        ns.append(ns[i-2] + ns[i-1])\n",
    "    \n",
    "    return ns"
   ]
  },
  {
   "cell_type": "code",
   "execution_count": 4,
   "metadata": {
    "slideshow": {
     "slide_type": "slide"
    }
   },
   "outputs": [],
   "source": [
    "def test_fib(ns):\n",
    "             \n",
    "    assert ns[0] == 0\n",
    "    assert ns[1] == 1\n",
    "\n",
    "    n   = len(ns)\n",
    "    oks = [ns[i] == ns[i-1] + ns[i-2] for i in range(2, n)]\n",
    "    assert all(oks)\n",
    "\n",
    "    return True"
   ]
  },
  {
   "cell_type": "code",
   "execution_count": 5,
   "metadata": {
    "slideshow": {
     "slide_type": "fragment"
    }
   },
   "outputs": [
    {
     "name": "stdout",
     "output_type": "stream",
     "text": [
      "[0, 1, 1, 2, 3, 5, 8, 13, 21, 34, 55, 89, 144, 233, 377, 610, 987, 1597, 2584, 4181]\n"
     ]
    },
    {
     "data": {
      "text/plain": [
       "True"
      ]
     },
     "execution_count": 5,
     "metadata": {},
     "output_type": "execute_result"
    }
   ],
   "source": [
    "n      = 20 \n",
    "values = fib(n)\n",
    "#values = [0, 1, 5, 8]\n",
    "print(values)\n",
    "test_fib(values)"
   ]
  },
  {
   "cell_type": "markdown",
   "metadata": {
    "slideshow": {
     "slide_type": "slide"
    }
   },
   "source": [
    "### The importance of testing\n",
    "\n",
    "\n",
    "In reality ¡a function is defined via its test!\n",
    "\n",
    "It is in general good practice to write tests of a function before implementing the function!\n",
    "\n",
    "for example, What is the bi-valued function that muss pass the following tests?"
   ]
  },
  {
   "cell_type": "code",
   "execution_count": 33,
   "metadata": {
    "slideshow": {
     "slide_type": "slide"
    }
   },
   "outputs": [],
   "source": [
    "def test_function(function, a, b, null = 0):\n",
    "    \n",
    "    assert function(a, b) == function(b, a)\n",
    "    \n",
    "    assert function(a, function(a, b)) == function(b, function(a, a))\n",
    "    \n",
    "    assert function(a, null) ==  a\n",
    "    \n",
    "    return True"
   ]
  },
  {
   "cell_type": "code",
   "execution_count": null,
   "metadata": {
    "slideshow": {
     "slide_type": "slide"
    }
   },
   "outputs": [
    {
     "name": "stdout",
     "output_type": "stream",
     "text": [
      "test passed\n"
     ]
    }
   ],
   "source": [
    "add   = lambda a, b : a + b\n",
    "a, b  = 1+0j, 0+1j\n",
    "\n",
    "test_add = test_function\n",
    "#test_function(add, a, b)\n",
    "\n",
    "try:\n",
    "    test_add(add, a, b)\n",
    "    print('test passed!')\n",
    "except:\n",
    "    print('test not passed!')\n"
   ]
  },
  {
   "cell_type": "code",
   "execution_count": 37,
   "metadata": {
    "slideshow": {
     "slide_type": "slide"
    }
   },
   "outputs": [
    {
     "name": "stdout",
     "output_type": "stream",
     "text": [
      "test not passed!\n"
     ]
    }
   ],
   "source": [
    "a, b = list(range(3)), list(range(3, 6))\n",
    " \n",
    "try:\n",
    "    test_add(add, a, b)\n",
    "    print('test passed!')\n",
    "except:\n",
    "    print('test not passed!')"
   ]
  },
  {
   "cell_type": "markdown",
   "metadata": {
    "slideshow": {
     "slide_type": "slide"
    }
   },
   "source": [
    "In the next sections, about classes, we will learn that the addition operation with complex is called: *complex.__add__* and the with list *list._add__*.\n",
    "\n",
    "And in a similar way with the multiplication"
   ]
  },
  {
   "cell_type": "markdown",
   "metadata": {
    "slideshow": {
     "slide_type": "slide"
    }
   },
   "source": [
    "### Exercises\n",
    "\n",
    "  * For the functions that you have implemente before, implement some tests.\n",
    "  \n",
    "  * From now on, in your modules always include a test of your functions."
   ]
  },
  {
   "cell_type": "markdown",
   "metadata": {
    "slideshow": {
     "slide_type": "slide"
    }
   },
   "source": [
    "### Apendix : decorators\n",
    "\n",
    "Decorators are a special syntax in Python that allows to apply a function, *decorate*, on top of another function, *function*:\n",
    "    \n",
    "*decorator(function)*\n",
    "\n",
    "In the case above, there is a patter that repeats (*try: except:*) that can be implemented as decorator."
   ]
  },
  {
   "cell_type": "code",
   "execution_count": 41,
   "metadata": {
    "slideshow": {
     "slide_type": "slide"
    }
   },
   "outputs": [
    {
     "name": "stdout",
     "output_type": "stream",
     "text": [
      "test not passed\n"
     ]
    }
   ],
   "source": [
    "mul = lambda a, b : a * b\n",
    "\n",
    "a, b = 1., 2.\n",
    "try:\n",
    "    test_add(mul, a, b)\n",
    "    print('test passed')\n",
    "except:\n",
    "    print('test not passed')"
   ]
  },
  {
   "cell_type": "markdown",
   "metadata": {
    "slideshow": {
     "slide_type": "slide"
    }
   },
   "source": [
    "But first, this is an example expample of a decorator:"
   ]
  },
  {
   "cell_type": "code",
   "execution_count": 42,
   "metadata": {
    "slideshow": {
     "slide_type": "fragment"
    }
   },
   "outputs": [
    {
     "data": {
      "text/plain": [
       "'> hello'"
      ]
     },
     "execution_count": 42,
     "metadata": {},
     "output_type": "execute_result"
    }
   ],
   "source": [
    "def add_initial_symbol(function):\n",
    "    \n",
    "    def decorate():\n",
    "        return '> ' +  function()\n",
    "    \n",
    "    return decorate\n",
    "    \n",
    "@add_initial_symbol\n",
    "def hello():\n",
    "    \n",
    "    return 'hello'\n",
    "\n",
    "hello()"
   ]
  },
  {
   "cell_type": "markdown",
   "metadata": {
    "slideshow": {
     "slide_type": "slide"
    }
   },
   "source": [
    "Notice that first we need to define a function-decorator, *add_initial_symbol* that returns the decorated function, and then, we 'code' the decorator on top of the function via the especial symtax *@add_initial_symbol* on top of the definition of the function. \n",
    "\n",
    "The function named *hello()* does now what does the body of *decorate()* inside *add_initial_symbol*"
   ]
  },
  {
   "cell_type": "markdown",
   "metadata": {
    "slideshow": {
     "slide_type": "slide"
    }
   },
   "source": [
    "Let's do now a decorator for test_function, that in this case takes three arguments, *fun, a, b*."
   ]
  },
  {
   "cell_type": "code",
   "execution_count": 51,
   "metadata": {
    "slideshow": {
     "slide_type": "slide"
    }
   },
   "outputs": [],
   "source": [
    "def print_test(test_fun):\n",
    "    \n",
    "    def decorate(fun, a, b, null = 0):\n",
    "        try:\n",
    "            test_fun(fun, a, b, null)\n",
    "            return 'Test passed!'\n",
    "        except:\n",
    "            return 'Test not passed!'\n",
    "            \n",
    "    return decorate"
   ]
  },
  {
   "cell_type": "code",
   "execution_count": 52,
   "metadata": {
    "slideshow": {
     "slide_type": "slide"
    }
   },
   "outputs": [],
   "source": [
    "@print_test\n",
    "def test_addition(function, a, b, null = 0):\n",
    "    \n",
    "    assert function(a, b) == function(b, a)\n",
    "    \n",
    "    assert function(a, function(a, b)) == function(b, function(a, a))\n",
    "    \n",
    "    assert function(a, null) ==  a"
   ]
  },
  {
   "cell_type": "code",
   "execution_count": 54,
   "metadata": {
    "slideshow": {
     "slide_type": "slide"
    }
   },
   "outputs": [
    {
     "name": "stdout",
     "output_type": "stream",
     "text": [
      "add:  Test passed!\n",
      "mul:  Test not passed!\n"
     ]
    }
   ],
   "source": [
    "a, b = 5., 1.\n",
    "print('add: ', test_addition(add, a, b))\n",
    "print('mul: ', test_addition(mul, a, b))"
   ]
  },
  {
   "cell_type": "markdown",
   "metadata": {
    "slideshow": {
     "slide_type": "slide"
    }
   },
   "source": [
    "Now *test_addition* is in fact *decorated* with *print_test* and takes the argument, *function, a, b*."
   ]
  },
  {
   "cell_type": "markdown",
   "metadata": {
    "slideshow": {
     "slide_type": "slide"
    }
   },
   "source": [
    "## Pytest\n",
    "\n",
    "There are several modules to imlement test in python. \n",
    "\n",
    "A common module is [*pytest*](https://docs.pytest.org/en/7.1.x/contents.html) (see documentation to explore the multiple testing capabilities)\n",
    "\n",
    "Create for example a file [*test_vector.py*](./test_vector.py) where inside there are functions that start with 'test', i.e. *test_vector_add()**\n",
    "\n",
    "You can run the file in the command line:\n",
    "\n",
    "\n",
    ">pytest test_vector_py\n",
    "\n",
    "\n"
   ]
  },
  {
   "cell_type": "code",
   "execution_count": 25,
   "metadata": {},
   "outputs": [
    {
     "name": "stdout",
     "output_type": "stream",
     "text": [
      "\u001b[1m============================= test session starts ==============================\u001b[0m\n",
      "platform darwin -- Python 3.9.13, pytest-7.1.2, pluggy-1.0.0\n",
      "rootdir: /Users/hernando/work/docencia/master/FCA/USC-FC\n",
      "plugins: anyio-3.5.0, hypothesis-6.140.2\n",
      "collected 2 items                                                              \u001b[0m\n",
      "\n",
      "test_vector.py \u001b[32m.\u001b[0m\u001b[32m.\u001b[0m\u001b[32m                                                        [100%]\u001b[0m\n",
      "\n",
      "\u001b[32m============================== \u001b[32m\u001b[1m2 passed\u001b[0m\u001b[32m in 0.01s\u001b[0m\u001b[32m ===============================\u001b[0m\n"
     ]
    }
   ],
   "source": [
    "!pytest test_vector.py"
   ]
  },
  {
   "cell_type": "markdown",
   "metadata": {},
   "source": [
    "### Hypothesis\n",
    "\n",
    "There is a powerful module, *hypothesis*, that provides extreme inputs to test functions and methods.\n",
    "\n",
    "It uses decorates to pass random inputs to the test functions."
   ]
  },
  {
   "cell_type": "code",
   "execution_count": 55,
   "metadata": {},
   "outputs": [],
   "source": [
    "import pytest\n",
    "from hypothesis import given, strategies as st\n",
    "\n",
    "sum = lambda a, b : a + b\n",
    "\n",
    "# Test con pytest\n",
    "def test_sum():\n",
    "    assert sum(2, 3) == 5\n",
    "    assert sum(-1, 1) == 0\n",
    "    assert sum(0, 0) == 0\n",
    "\n",
    "# Test con hypothesis\n",
    "@given(st.integers(), st.integers())\n",
    "def test_sum_hypothesis(a, b):\n",
    "    assert sum(a, b) == a + b"
   ]
  },
  {
   "cell_type": "code",
   "execution_count": 56,
   "metadata": {},
   "outputs": [],
   "source": [
    "test_sum_hypothesis()"
   ]
  },
  {
   "cell_type": "markdown",
   "metadata": {
    "slideshow": {
     "slide_type": "slide"
    }
   },
   "source": [
    "### Extra exercises\n",
    "\n",
    " * Implement a class *Rational* constructed from pair of integers $q/p$, with $p>0$, and define the methods *__add__, __prod__, __equal__* fo two *Rational* instances.\n",
    "\n",
    " * Desing the tests of the *Rational* class\n",
    "\n",
    " * One group implement the class, the other the test, both win if the class pass the test and the test and the class are complete. "
   ]
  },
  {
   "cell_type": "code",
   "execution_count": 30,
   "metadata": {},
   "outputs": [
    {
     "name": "stdout",
     "output_type": "stream",
     "text": [
      "\u001b[1m============================= test session starts ==============================\u001b[0m\n",
      "platform darwin -- Python 3.9.13, pytest-7.1.2, pluggy-1.0.0\n",
      "rootdir: /Users/hernando/work/docencia/master/FCA/USC-FC\n",
      "plugins: anyio-3.5.0, hypothesis-6.140.2\n",
      "collected 4 items                                                              \u001b[0m\n",
      "\n",
      "rational_test.py \u001b[32m.\u001b[0m\u001b[32m.\u001b[0m\u001b[32m.\u001b[0m\u001b[32m.\u001b[0m\u001b[32m                                                    [100%]\u001b[0m\n",
      "\n",
      "\u001b[32m============================== \u001b[32m\u001b[1m4 passed\u001b[0m\u001b[32m in 0.52s\u001b[0m\u001b[32m ===============================\u001b[0m\n"
     ]
    }
   ],
   "source": [
    "!pytest rational_test.py"
   ]
  },
  {
   "cell_type": "code",
   "execution_count": null,
   "metadata": {},
   "outputs": [],
   "source": []
  }
 ],
 "metadata": {
  "anaconda-cloud": {},
  "celltoolbar": "Slideshow",
  "kernelspec": {
   "display_name": "base",
   "language": "python",
   "name": "python3"
  },
  "language_info": {
   "codemirror_mode": {
    "name": "ipython",
    "version": 3
   },
   "file_extension": ".py",
   "mimetype": "text/x-python",
   "name": "python",
   "nbconvert_exporter": "python",
   "pygments_lexer": "ipython3",
   "version": "3.9.13"
  }
 },
 "nbformat": 4,
 "nbformat_minor": 1
}
