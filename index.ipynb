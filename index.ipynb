{
 "cells": [
  {
   "cell_type": "markdown",
   "metadata": {
    "slideshow": {
     "slide_type": "slide"
    }
   },
   "source": [
    "# Computational Physics \n",
    "\n",
    "\n",
    "## More about Python : Functions and Classes\n",
    "\n",
    "\n",
    "#### *J.A. Hernando Morata*, in collaboration wtih *G. Martínez-Lema*, *M. Kekic*.\n",
    "####  USC, October 2020 \n"
   ]
  },
  {
   "cell_type": "code",
   "execution_count": 1,
   "metadata": {
    "slideshow": {
     "slide_type": "fragment"
    }
   },
   "outputs": [
    {
     "name": "stdout",
     "output_type": "stream",
     "text": [
      " Last version  Tue Oct 26 16:57:40 2021\n"
     ]
    }
   ],
   "source": [
    "import time\n",
    "\n",
    "print(' Last version ', time.asctime() )"
   ]
  },
  {
   "cell_type": "markdown",
   "metadata": {
    "slideshow": {
     "slide_type": "slide"
    }
   },
   "source": [
    "## Index\n",
    "\n",
    "### Preparing the course\n",
    "\n",
    "* [about the materials of this course](./setup.ipynb)\n",
    "\n",
    "\n",
    "### More about Python, Functions and Classes:\n",
    "\n",
    "* [Introduction](./python_intro.ipynb)\n",
    "    \n",
    "* [About functions](./about_functions.ipynb)\n",
    "\n",
    "* [About list expressions](./about_list_expressions.ipynb)\n",
    "\n",
    "* [About iterators and generators](./about_iterators.ipynb)\n",
    "\n",
    "* [About testing functions](./about_testing.ipynb)\n",
    "\n",
    "* [Introduction to classes](./classes_intro.ipynb)\n",
    "\n",
    "* [Classes](./classes.ipynb)\n",
    "\n",
    "* [Inheritance](./classes_inheritance.ipynb)\n",
    "\n",
    "\n",
    "#### Shortcuts:\n",
    "\n",
    "* [shortcut to *matplotlib* (1)](./shortcut_matplotlib1.ipynb)\n",
    "\n",
    "* [shortcut to *matplotlib* (2)](./shortcut_matplotlib2.ipynb)\n",
    "\n",
    "\n",
    "#### Cookbooks:\n",
    "\n",
    "* [*numpy* cookbook](./cookbook_numpy.ipynb)\n",
    "\n",
    "* [*pandas* cookbook](./cookbook_pandas.ipynb)\n",
    "    \n"
   ]
  },
  {
   "cell_type": "code",
   "execution_count": null,
   "metadata": {},
   "outputs": [],
   "source": []
  }
 ],
 "metadata": {
  "anaconda-cloud": {},
  "celltoolbar": "Slideshow",
  "kernelspec": {
   "display_name": "Python 3",
   "language": "python",
   "name": "python3"
  },
  "language_info": {
   "codemirror_mode": {
    "name": "ipython",
    "version": 3
   },
   "file_extension": ".py",
   "mimetype": "text/x-python",
   "name": "python",
   "nbconvert_exporter": "python",
   "pygments_lexer": "ipython3",
   "version": "3.8.8"
  }
 },
 "nbformat": 4,
 "nbformat_minor": 1
}
