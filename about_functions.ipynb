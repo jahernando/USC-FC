{
 "cells": [
  {
   "cell_type": "markdown",
   "metadata": {
    "slideshow": {
     "slide_type": "subslide"
    }
   },
   "source": [
    "# Computational Physics \n",
    "\n",
    "\n",
    "## More about Python : Functions and Classes\n",
    "\n",
    "\n",
    "#### *J.A. Hernando Morata*, in collaboration wtih *G. Martínez-Lema*, *M. Kekic*.\n",
    "####  USC, October 2020 \n",
    "\n",
    "\n",
    "\n",
    "## About functions"
   ]
  },
  {
   "cell_type": "code",
   "execution_count": 1,
   "metadata": {
    "slideshow": {
     "slide_type": "fragment"
    }
   },
   "outputs": [
    {
     "name": "stdout",
     "output_type": "stream",
     "text": [
      " Last revision  Thu Oct  6 17:23:05 2022\n"
     ]
    }
   ],
   "source": [
    "import time\n",
    "print(' Last revision ', time.asctime())"
   ]
  },
  {
   "cell_type": "code",
   "execution_count": 2,
   "metadata": {
    "slideshow": {
     "slide_type": "slide"
    }
   },
   "outputs": [],
   "source": [
    "# general imports\n",
    "%matplotlib inline\n",
    "\n",
    "# the general imports\n",
    "import numpy as np\n",
    "import pandas as pd\n",
    "import matplotlib\n",
    "import matplotlib.pyplot as plt\n",
    "# possible styles: ggplot (simplicity), bmh (scientify data), \n",
    "matplotlib.style.use('ggplot')"
   ]
  },
  {
   "cell_type": "markdown",
   "metadata": {
    "slideshow": {
     "slide_type": "slide"
    }
   },
   "source": [
    "## 1. About functions\n",
    "\n",
    "In this notebook we revisit some notions about *functions*.\n",
    "\n",
    "A function in Python is encapsulated pieze of code that can take several arguments, performs several computations and returns a result. \n",
    "\n",
    "The next cell shows the definition of a function, named *fib*, that returns a list with the first *n* Fibonacci numbers. "
   ]
  },
  {
   "cell_type": "code",
   "execution_count": 3,
   "metadata": {
    "slideshow": {
     "slide_type": "slide"
    }
   },
   "outputs": [],
   "source": [
    "def fib(n):\n",
    "    \"\"\" returns a list with the first n numbers of the Fibonacci serie\n",
    "    \"\"\"\n",
    "    ns = [0, 1]\n",
    "    \n",
    "    for i in range(2, n):\n",
    "        ns.append(ns[i-2] + ns[i-1])\n",
    "    \n",
    "    return ns"
   ]
  },
  {
   "cell_type": "code",
   "execution_count": 5,
   "metadata": {
    "slideshow": {
     "slide_type": "fragment"
    }
   },
   "outputs": [
    {
     "name": "stdout",
     "output_type": "stream",
     "text": [
      "[0, 1, 1, 2, 3]\n"
     ]
    }
   ],
   "source": [
    "n      = 5\n",
    "values = fib(n)\n",
    "print(values)"
   ]
  },
  {
   "cell_type": "markdown",
   "metadata": {
    "slideshow": {
     "slide_type": "slide"
    }
   },
   "source": [
    "A function have a name (interface), *fib*, a type, *function*, it can take *n*. arguments and it returns something (or none), in this case, *fib* returns a list with the *n* fist Fibonacci numbers. \n",
    "\n",
    "The expresions of the function are its body, they follow the definition of the function and they are indented. \n",
    "\n",
    "The variables defined in the body are local and are deleted when the function ends. In this sense, a function defines its own scope. \n",
    "\n",
    "In general functions should not change the values of the arguments inside the body. \n",
    "\n",
    "Some functions do not take arguments, or do return nothing. But they are expected to do something, produce some side efects, as printing or writting in a output, plots, etc. "
   ]
  },
  {
   "cell_type": "markdown",
   "metadata": {
    "slideshow": {
     "slide_type": "slide"
    }
   },
   "source": [
    "### 1.1 Recursivity\n",
    "\n",
    "Python supports recursivity. A function can call itself. Here is the example of the function, *nfactorial*, that computes the factorial of *n*"
   ]
  },
  {
   "cell_type": "code",
   "execution_count": 7,
   "metadata": {
    "slideshow": {
     "slide_type": "fragment"
    }
   },
   "outputs": [],
   "source": [
    "def nfactorial(n):\n",
    "    \"\"\" returns n! = n*(n-1)*...*1\n",
    "    \"\"\"\n",
    "    if (n <= 1 ): \n",
    "        return 1\n",
    "    return n * nfactorial(n-1)        "
   ]
  },
  {
   "cell_type": "code",
   "execution_count": 8,
   "metadata": {
    "slideshow": {
     "slide_type": "fragment"
    }
   },
   "outputs": [
    {
     "name": "stdout",
     "output_type": "stream",
     "text": [
      " 5! =  120\n"
     ]
    }
   ],
   "source": [
    "m = 5\n",
    "print(' ' + str(m) + '! = ', nfactorial(m))"
   ]
  },
  {
   "cell_type": "markdown",
   "metadata": {
    "slideshow": {
     "slide_type": "slide"
    }
   },
   "source": [
    "### 1.2 functions inside functions\n",
    "\n",
    "A funcion can be defined inside another function. The function is then local, and can only be used in the scope of the large function.\n",
    "\n",
    "In the following example, the *distance()* function is only defined and valid inside *closest_distance_to*."
   ]
  },
  {
   "cell_type": "code",
   "execution_count": 9,
   "metadata": {
    "slideshow": {
     "slide_type": "subslide"
    }
   },
   "outputs": [],
   "source": [
    "import math\n",
    "\n",
    "def element_at_closest_distance_to(x0, xs):\n",
    "    \"\"\" return the element of the *xs* list that is closer to *x0*\n",
    "    \"\"\"\n",
    "    def distance(x0, xi):\n",
    "        return abs(x0 - xi)\n",
    "    \n",
    "    d, x = 1e16, 0\n",
    "    for xi in xs:\n",
    "        di = distance(x0, xi)\n",
    "        if (di < d): \n",
    "            d, x = di, xi\n",
    "    \n",
    "    return x"
   ]
  },
  {
   "cell_type": "code",
   "execution_count": 12,
   "metadata": {
    "slideshow": {
     "slide_type": "fragment"
    }
   },
   "outputs": [
    {
     "name": "stdout",
     "output_type": "stream",
     "text": [
      " closest point to x0  5j  is : 1j\n"
     ]
    }
   ],
   "source": [
    "x0, xs = 5j, [0., 0.5, 1j, 20.]\n",
    "\n",
    "xi = element_at_closest_distance_to(x0, xs)\n",
    "\n",
    "print(' closest point to x0 ', x0, ' is :', xi)"
   ]
  },
  {
   "cell_type": "markdown",
   "metadata": {
    "slideshow": {
     "slide_type": "slide"
    }
   },
   "source": [
    "### 1.3 functions and variables\n",
    "\n",
    "A function can be associated to a variable and be passed to another piece of code.\n",
    "\n",
    "In the folowing example *nf* is a variable, which value is the function *nfactorial*."
   ]
  },
  {
   "cell_type": "code",
   "execution_count": 13,
   "metadata": {
    "slideshow": {
     "slide_type": "fragment"
    }
   },
   "outputs": [
    {
     "name": "stdout",
     "output_type": "stream",
     "text": [
      "factorials  [1, 1, 2, 6, 24, 120]\n"
     ]
    }
   ],
   "source": [
    "ns = [] \n",
    "for ni in range(6):\n",
    "    ns.append( nfactorial(ni) )\n",
    "print('factorials ', ns)"
   ]
  },
  {
   "cell_type": "code",
   "execution_count": 14,
   "metadata": {
    "slideshow": {
     "slide_type": "subslide"
    }
   },
   "outputs": [
    {
     "name": "stdout",
     "output_type": "stream",
     "text": [
      "[1, 1, 2, 6, 24, 120]\n"
     ]
    }
   ],
   "source": [
    "nf = nfactorial\n",
    "ns = []\n",
    "for ni in range(6):\n",
    "    ns.append( nf(ni) )\n",
    "print(ns)"
   ]
  },
  {
   "cell_type": "markdown",
   "metadata": {
    "slideshow": {
     "slide_type": "subslide"
    }
   },
   "source": [
    "### 1.4 A function can return a function\n",
    "\n",
    "A function can return another function. This is called a **functor**.\n",
    "\n",
    "In the following example, we pass to a function, *create_polynomial*, a list of coefficients, $[a_0, a_1, \\dots, a_n]$, ant it returns the actual polynomial function, $p(x)$. When called it with an scalar $x$, it computes $p(x) = a_0 + a_1 \\, x + a_2 \\, x^2 + ... + a_n x^n = \\sum_{i=0}^n a_i \\, x^i$ \n"
   ]
  },
  {
   "cell_type": "code",
   "execution_count": 15,
   "metadata": {
    "slideshow": {
     "slide_type": "slide"
    }
   },
   "outputs": [],
   "source": [
    "def create_polynomial(coeficients):\n",
    "    \"\"\" returns a function that is a polinomial with the coeficients\n",
    "    given in the list coeficients\n",
    "    \"\"\"\n",
    "    def pol(x):\n",
    "        y = 0.\n",
    "        for i  in range(len(coeficients)):\n",
    "            y = y + coeficients[i] * (x**i)\n",
    "        return y\n",
    "    \n",
    "    return pol"
   ]
  },
  {
   "cell_type": "code",
   "execution_count": 16,
   "metadata": {
    "slideshow": {
     "slide_type": "subslide"
    }
   },
   "outputs": [
    {
     "name": "stdout",
     "output_type": "stream",
     "text": [
      " pol is a :  <class 'function'>\n",
      " is pol callable  True\n",
      " pol(x0) with x0  1.0  =  3.0\n"
     ]
    }
   ],
   "source": [
    "# p1 is un polinomio p(x) = 1 - x + 2 x**2\n",
    "coeficients = (1., 0., 2.)\n",
    "x0          = 1.\n",
    "pol         = create_polynomial(coeficients)\n",
    "\n",
    "print(' pol is a : ', type(pol))\n",
    "print(' is pol callable ', callable(pol))\n",
    "print(' pol(x0) with x0 ', x0, ' = '  , pol(x0))"
   ]
  },
  {
   "cell_type": "code",
   "execution_count": 17,
   "metadata": {
    "slideshow": {
     "slide_type": "subslide"
    }
   },
   "outputs": [
    {
     "data": {
      "image/png": "[encoded data removed]",
      "text/plain": [
       "<Figure size 432x288 with 1 Axes>"
      ]
     },
     "metadata": {},
     "output_type": "display_data"
    }
   ],
   "source": [
    "xs = np.linspace(-5., 5, 100)\n",
    "plt.plot(xs, pol(xs));\n",
    "plt.xlabel('x')\n",
    "plt.ylabel('y');"
   ]
  },
  {
   "cell_type": "markdown",
   "metadata": {
    "slideshow": {
     "slide_type": "slide"
    }
   },
   "source": [
    "----\n",
    "## 2. Lambda expresions\n",
    "\n",
    "**Lambda** is a command that allows you to define a function in one expression, on the flight, without given it a name!\n",
    "\n",
    "The function is expected to work on the local scope.\n",
    "\n",
    "In the following example *sq* is a function defined using *lambda* and computes the squared of its argument."
   ]
  },
  {
   "cell_type": "code",
   "execution_count": 21,
   "metadata": {
    "slideshow": {
     "slide_type": "slide"
    }
   },
   "outputs": [
    {
     "name": "stdout",
     "output_type": "stream",
     "text": [
      " fun(3) =  9.0\n",
      " xs     =  [0, 1, 2, 3]\n",
      " fun(xs) =  [0, 1, 4, 9]\n"
     ]
    }
   ],
   "source": [
    "sq = lambda x : x * x \n",
    "print(' fun(3) = ', sq(3.))\n",
    "\n",
    "xs  = list(range(4))\n",
    "xs2 = []\n",
    "for xi in xs:\n",
    "    xs2.append( sq(xi) )\n",
    "\n",
    "print(' xs     = ', xs)\n",
    "print(' fun(xs) = ', xs2)"
   ]
  },
  {
   "cell_type": "markdown",
   "metadata": {
    "slideshow": {
     "slide_type": "slide"
    }
   },
   "source": [
    "The **lambda** function is a crucial ingredient in **functional programming**.\n",
    "\n",
    "It appears associated to expressions applied to lists, usually with *map()* and *filter()* builtin functions.\n",
    "\n",
    "In the following example, *map()* applies a function defined on the flight using lambda to compute the squared of to the elements on the list *xs* and produces another list with the squared values!"
   ]
  },
  {
   "cell_type": "code",
   "execution_count": 24,
   "metadata": {
    "slideshow": {
     "slide_type": "slide"
    }
   },
   "outputs": [
    {
     "name": "stdout",
     "output_type": "stream",
     "text": [
      " xs  =   [0, 1, 2, 3]\n",
      " xs2 =  [0, 1, 4, 9]\n"
     ]
    }
   ],
   "source": [
    "xs  = list(range(4))\n",
    "sq  = lambda x: x * x \n",
    "xs2 = list(map(sq, xs))\n",
    "print(' xs  =  ', xs)\n",
    "print(' xs2 = ' , xs2)"
   ]
  },
  {
   "cell_type": "markdown",
   "metadata": {
    "slideshow": {
     "slide_type": "slide"
    }
   },
   "source": [
    "Here is another example, the **lambda** defines a boolean function that returns true if the argument is even and false if it is odd. We apply it to a list of numbers *ns* using the *filter()* builtin function to select the even numbers in the list."
   ]
  },
  {
   "cell_type": "code",
   "execution_count": 25,
   "metadata": {
    "slideshow": {
     "slide_type": "fragment"
    }
   },
   "outputs": [
    {
     "name": "stdout",
     "output_type": "stream",
     "text": [
      " ns     [0, 1, 2, 3, 4, 5]\n",
      " even1  [True, False, True, False, True, False]\n",
      " even2  [True, False, True, False, True, False]\n"
     ]
    }
   ],
   "source": [
    "ns      = list(range(6))\n",
    "is_even = lambda n: n%2 == 0\n",
    "even1   = list(map(is_even              , ns))\n",
    "even2   = list(map(lambda ni: ni%2 == 0 , ns))  \n",
    "print(' ns    ', ns)\n",
    "print(' even1 ', even1)\n",
    "print(' even2 ', even2)"
   ]
  },
  {
   "cell_type": "code",
   "execution_count": 26,
   "metadata": {
    "slideshow": {
     "slide_type": "subslide"
    }
   },
   "outputs": [
    {
     "name": "stdout",
     "output_type": "stream",
     "text": [
      " ns    [0, 1, 2, 3, 4, 5]\n",
      " ns2   [0, 1, 4, 9, 16, 25]\n",
      " evs1  [0, 2, 4]\n"
     ]
    }
   ],
   "source": [
    "# is_even = lambda ni : ni % 2 == 0\n",
    "ns2   = list(map   (lambda ni: ni * ni, ns))\n",
    "evs1  = list(filter(lambda ni: ni%2 == 0, ns))\n",
    "\n",
    "print(' ns   ', ns)\n",
    "print(' ns2  ', ns2)\n",
    "print(' evs1 ', evs1)"
   ]
  },
  {
   "cell_type": "markdown",
   "metadata": {
    "slideshow": {
     "slide_type": "slide"
    }
   },
   "source": [
    "-----\n",
    "## 3. About arguments\n",
    "\n",
    "### 3.1 Default arguments\n",
    "\n",
    "It is common that some functions take some default arguments. We asign the argument to a default value *argument = value* in the definition of the function. In the case the user does not pass that argument, the function will use the default value!\n",
    "\n",
    "In the following example, the *comment* is set by default to *'Please, enter yes or no'*."
   ]
  },
  {
   "cell_type": "code",
   "execution_count": 27,
   "metadata": {
    "slideshow": {
     "slide_type": "slide"
    }
   },
   "outputs": [],
   "source": [
    "def ask_user(comment = 'Please enter yes or no (y, n): '):\n",
    "    \n",
    "    while True:\n",
    "        ok = input(comment)\n",
    "        if (ok in ['y', 'yes']): \n",
    "            return True\n",
    "        elif (ok in ['n', 'no']):\n",
    "            return False"
   ]
  },
  {
   "cell_type": "code",
   "execution_count": 28,
   "metadata": {
    "slideshow": {
     "slide_type": "subslide"
    }
   },
   "outputs": [
    {
     "name": "stdout",
     "output_type": "stream",
     "text": [
      "Please enter yes or no (y, n): yes\n"
     ]
    },
    {
     "data": {
      "text/plain": [
       "True"
      ]
     },
     "execution_count": 28,
     "metadata": {},
     "output_type": "execute_result"
    }
   ],
   "source": [
    "ask_user()"
   ]
  },
  {
   "cell_type": "markdown",
   "metadata": {
    "slideshow": {
     "slide_type": "slide"
    }
   },
   "source": [
    "Note: If the function has several arguments, the default arguments must go at then end!"
   ]
  },
  {
   "cell_type": "markdown",
   "metadata": {
    "slideshow": {
     "slide_type": "slide"
    }
   },
   "source": [
    "### 3.2 Arguments from a list\n",
    "\n",
    "You can pass several arguments to a function using a tuple. In order to unpack the tuple, just use the * operator in front! "
   ]
  },
  {
   "cell_type": "code",
   "execution_count": 38,
   "metadata": {
    "slideshow": {
     "slide_type": "fragment"
    }
   },
   "outputs": [
    {
     "name": "stdout",
     "output_type": "stream",
     "text": [
      "6\n"
     ]
    }
   ],
   "source": [
    "def prod(a, b):\n",
    "    return a * b\n",
    "\n",
    "x = [3, 2]\n",
    "print(prod(*x))"
   ]
  },
  {
   "cell_type": "markdown",
   "metadata": {
    "slideshow": {
     "slide_type": "slide"
    }
   },
   "source": [
    "An function can also returns a list of objects, that can be take either as a list or either individually."
   ]
  },
  {
   "cell_type": "code",
   "execution_count": 29,
   "metadata": {
    "slideshow": {
     "slide_type": "fragment"
    }
   },
   "outputs": [
    {
     "name": "stdout",
     "output_type": "stream",
     "text": [
      "total  5.0 , delta 3.0\n"
     ]
    }
   ],
   "source": [
    "def total_and_delta(a, b):\n",
    "    return a + b, a - b\n",
    "\n",
    "a, b = 4, 1.\n",
    "total, delta = total_and_delta(a, b)\n",
    "print('total ', total, ', delta', delta)"
   ]
  },
  {
   "cell_type": "code",
   "execution_count": 30,
   "metadata": {
    "slideshow": {
     "slide_type": "fragment"
    }
   },
   "outputs": [
    {
     "name": "stdout",
     "output_type": "stream",
     "text": [
      "total  5.0 , delta 3.0\n"
     ]
    }
   ],
   "source": [
    "cc  = total_and_delta(a, b)\n",
    "print('total ', cc[0], ', delta', cc[1])"
   ]
  },
  {
   "cell_type": "markdown",
   "metadata": {
    "slideshow": {
     "slide_type": "slide"
    }
   },
   "source": [
    "### 3.3 Arguments from a dictionary\n",
    "\n",
    "You can also pass the arguments to a function using a dictionary, in that case the keys of the dictonary should be strings and be identical to the name of the arguments of the function. You need to use the double * operator in front of the dictionary!"
   ]
  },
  {
   "cell_type": "code",
   "execution_count": 31,
   "metadata": {
    "slideshow": {
     "slide_type": "fragment"
    }
   },
   "outputs": [],
   "source": [
    "def print_client_phone(client, phone):\n",
    "    print(' client ', client, ' phone ', phone)"
   ]
  },
  {
   "cell_type": "code",
   "execution_count": 32,
   "metadata": {
    "slideshow": {
     "slide_type": "fragment"
    }
   },
   "outputs": [
    {
     "name": "stdout",
     "output_type": "stream",
     "text": [
      " client  Angel  phone  55123153\n"
     ]
    }
   ],
   "source": [
    "print_client_phone('Angel', 55123153)"
   ]
  },
  {
   "cell_type": "code",
   "execution_count": 33,
   "metadata": {
    "slideshow": {
     "slide_type": "fragment"
    }
   },
   "outputs": [
    {
     "name": "stdout",
     "output_type": "stream",
     "text": [
      " client  Angel  phone  22123123\n"
     ]
    }
   ],
   "source": [
    "data = {'client' : 'Angel', 'phone' : 22123123}\n",
    "print_client_phone(**data)"
   ]
  },
  {
   "cell_type": "markdown",
   "metadata": {
    "slideshow": {
     "slide_type": "slide"
    }
   },
   "source": [
    "### 3.4 Typed arguments\n",
    "\n",
    "Python only requires that the arguments of a function fulfill the requirements in the body of the function. That is functions in Python use 'generic' or 'template' arguments. \n",
    "\n",
    "Some programmers consider this a disadventage. You can name the arguments if you want, to make the code more readable. See the *typing* module within Python."
   ]
  },
  {
   "cell_type": "code",
   "execution_count": 34,
   "metadata": {
    "slideshow": {
     "slide_type": "slide"
    }
   },
   "outputs": [],
   "source": [
    "#from typing import Tuple\n",
    "\n",
    "def create_polynomial(coeficients  : tuple) -> callable:\n",
    "    \"\"\" returns a function that is a polinomial with the coeficients given in the list coeficients\n",
    "    \"\"\"\n",
    "    def pol(x : float) -> float:\n",
    "        y = 0.\n",
    "        for i  in range(len(coeficients)):\n",
    "            y = y + coeficients[i] * (x**i)\n",
    "        return y\n",
    "    return pol"
   ]
  },
  {
   "cell_type": "code",
   "execution_count": 35,
   "metadata": {
    "slideshow": {
     "slide_type": "fragment"
    }
   },
   "outputs": [
    {
     "name": "stdout",
     "output_type": "stream",
     "text": [
      "3.0\n"
     ]
    }
   ],
   "source": [
    "cas = (1., 1., 1.)\n",
    "pol = create_polynomial(cas)\n",
    "x = 1\n",
    "print(pol(x))"
   ]
  },
  {
   "cell_type": "markdown",
   "metadata": {
    "collapsed": true,
    "slideshow": {
     "slide_type": "slide"
    }
   },
   "source": [
    "### Exercises\n",
    "\n",
    "  1. Define a function to compute the mean and the variance of a list of numbers. Check with numpy\n",
    "  \n",
    "  \n",
    "  2. Given a list of $[(x, y)]$ numbers, make a function to compute its minimum distance to the origin. \n",
    "  \n",
    "  \n",
    "  4. Define a poisson probability function, $p(\\mu | n)$. \n",
    "  \n",
    "      * Define a functor, that passing as argument the mean value of a poisson, $\\mu$,  will return to you a function, $f(n)$, that $f(n) = p(n | \\mu)$. \n",
    "\n",
    "\n",
    "  6. Write a set of functions to fit a sample $\\{(x_i, y_i)\\}$ points, with uncertainties $\\sigma_i$ to a straight line via least squares method."
   ]
  }
 ],
 "metadata": {
  "anaconda-cloud": {},
  "celltoolbar": "Slideshow",
  "kernelspec": {
   "display_name": "Python 3",
   "language": "python",
   "name": "python3"
  },
  "language_info": {
   "codemirror_mode": {
    "name": "ipython",
    "version": 3
   },
   "file_extension": ".py",
   "mimetype": "text/x-python",
   "name": "python",
   "nbconvert_exporter": "python",
   "pygments_lexer": "ipython3",
   "version": "3.8.8"
  }
 },
 "nbformat": 4,
 "nbformat_minor": 1
}
