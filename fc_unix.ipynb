{
 "cells": [
  {
   "cell_type": "markdown",
   "id": "19768ab2",
   "metadata": {
    "slideshow": {
     "slide_type": "slide"
    }
   },
   "source": [
    "# Quick Intro to UNIX"
   ]
  },
  {
   "cell_type": "markdown",
   "id": "ee237347",
   "metadata": {
    "slideshow": {
     "slide_type": "slide"
    }
   },
   "source": [
    "## Objetives\n",
    "\n",
    "Interactive UNIX and Bash\n",
    "In this notebook, you can try commands interactively.\n",
    " \n",
    "We'll cover:\n",
    " - Navigation\n",
    " - File management\n",
    " - Viewing files\n",
    " - Screen sessions\n",
    " - Shell customization"
   ]
  },
  {
   "cell_type": "code",
   "execution_count": 12,
   "id": "d0e99558",
   "metadata": {
    "slideshow": {
     "slide_type": "slide"
    }
   },
   "outputs": [
    {
     "name": "stdout",
     "output_type": "stream",
     "text": [
      "/Users/hernando/work/docencia/master/Fisica_Computacional/USC-FC\r\n"
     ]
    }
   ],
   "source": [
    "# ---\n",
    "# ## Navigate directories\n",
    "\n",
    "# ### `cd` and `pwd`\n",
    "# You cannot directly `cd` in Jupyter to change the notebook kernel's working directory,\n",
    "# but you can check the current directory:\n",
    "!pwd\n"
   ]
  },
  {
   "cell_type": "code",
   "execution_count": 13,
   "id": "754d136d",
   "metadata": {
    "slideshow": {
     "slide_type": "slide"
    }
   },
   "outputs": [
    {
     "name": "stdout",
     "output_type": "stream",
     "text": [
      "total 2880\r\n",
      "-rw-r--r--@ 1 hernando  staff    36K 29 oct  2020 201118_Hernando_Luis_SS.pdf\r\n",
      "-rw-r--r--@ 1 hernando  staff   632B 21 oct  2020 README.md\r\n",
      "-rw-r--r--@ 1 hernando  staff   634B 21 oct  2020 README.md~\r\n",
      "drwxr-xr-x@ 7 hernando  staff   224B 14 oct  2022 \u001b[34m__pycache__\u001b[m\u001b[m\r\n",
      "-rw-r--r--@ 1 hernando  staff    36K  7 oct  2022 about_functions.ipynb\r\n",
      "-rw-r--r--@ 1 hernando  staff    10K 13 oct  2021 about_iterators.ipynb\r\n",
      "-rw-r--r--@ 1 hernando  staff    19K  7 oct  2022 about_list_expressions.ipynb\r\n",
      "-rw-r--r--@ 1 hernando  staff    12K 14 oct  2022 about_testing.ipynb\r\n",
      "-rw-r--r--@ 1 hernando  staff    21K 13 oct  2022 classes.ipynb\r\n",
      "-rw-r--r--@ 1 hernando  staff    16K 14 oct  2022 classes_inheritance.ipynb\r\n",
      "-rw-r--r--@ 1 hernando  staff    28K 11 oct  2022 classes_intro.ipynb\r\n",
      "-rw-r--r--@ 1 hernando  staff    58K 21 oct  2020 cookbook_numpy.ipynb\r\n",
      "-rw-r--r--@ 1 hernando  staff   166K 21 oct  2020 cookbook_pandas.ipynb\r\n",
      "drwxr-xr-x@ 2 hernando  staff    64B 21 oct  2020 \u001b[34mdata\u001b[m\u001b[m\r\n",
      "drwxr-xr-x  5 hernando  staff   160B  7 sep 17:16 \u001b[34mdemo_folder\u001b[m\u001b[m\r\n",
      "-rw-r--r--@ 1 hernando  staff   109B 21 oct  2020 environment.yml\r\n",
      "-rw-r--r--@ 1 hernando  staff   4,6K  5 sep 15:33 fc_classes.ipynb\r\n",
      "-rw-r--r--@ 1 hernando  staff   5,2K  5 sep 15:42 fc_git.ipynb\r\n",
      "-rw-r--r--  1 hernando  staff    13K  7 sep 17:17 fc_unix.ipynb\r\n",
      "drwxr-xr-x@ 5 hernando  staff   160B 21 oct  2020 \u001b[34mimg\u001b[m\u001b[m\r\n",
      "-rw-r--r--@ 1 hernando  staff   2,6K 11 oct  2022 index.ipynb\r\n",
      "drwxr-xr-x  5 hernando  staff   160B  6 sep 23:15 \u001b[34mmy_project\u001b[m\u001b[m\r\n",
      "-rw-r--r--@ 1 hernando  staff   2,4K 21 oct  2020 pytest_tutorial.py\r\n",
      "-rw-r--r--@ 1 hernando  staff    92K  6 oct  2022 python_intro.ipynb\r\n",
      "-rw-r--r--@ 1 hernando  staff   4,6K  6 oct  2022 setup.ipynb\r\n",
      "-rw-r--r--@ 1 hernando  staff   265K 22 oct  2020 shortcut_matplotlib1.ipynb\r\n",
      "-rw-r--r--@ 1 hernando  staff   573K 21 oct  2020 shortcut_matplotlib2.ipynb\r\n",
      "-rw-r--r--  1 hernando  staff   391B 11 oct  2022 test_functions.py\r\n",
      "-rw-r--r--@ 1 hernando  staff   387B 11 oct  2022 test_functions_save.py\r\n",
      "-rw-r--r--  1 hernando  staff   777B 11 oct  2022 test_vector.py\r\n",
      "-rw-r--r--  1 hernando  staff   3,4K 11 oct  2022 vector.py\r\n"
     ]
    }
   ],
   "source": [
    "# List files here:\n",
    "!ls -lh"
   ]
  },
  {
   "cell_type": "code",
   "execution_count": 15,
   "id": "a8d25321",
   "metadata": {
    "slideshow": {
     "slide_type": "slide"
    }
   },
   "outputs": [
    {
     "name": "stdout",
     "output_type": "stream",
     "text": [
      "drwxr-xr-x  5 hernando  staff   160B  7 sep 17:16 demo_folder\r\n"
     ]
    }
   ],
   "source": [
    "# You can create a temporary folder for practice:\n",
    "!mkdir -p demo_folder\n",
    "!ls -lh | grep demo\n"
   ]
  },
  {
   "cell_type": "code",
   "execution_count": 5,
   "id": "74f2779b",
   "metadata": {
    "slideshow": {
     "slide_type": "slide"
    }
   },
   "outputs": [
    {
     "name": "stdout",
     "output_type": "stream",
     "text": [
      "example.txt     file1.txt       file1_copy.txt  file2_moved.txt\r\n"
     ]
    }
   ],
   "source": [
    "# ---\n",
    "# ## Create and remove files/directories\n",
    "\n",
    "# Create a file:\n",
    "!touch demo_folder/example.txt\n",
    "!ls demo_folder\n"
   ]
  },
  {
   "cell_type": "code",
   "execution_count": 6,
   "id": "41ac6350",
   "metadata": {
    "slideshow": {
     "slide_type": "slide"
    }
   },
   "outputs": [
    {
     "name": "stdout",
     "output_type": "stream",
     "text": [
      "file1.txt       file1_copy.txt  file2_moved.txt\r\n"
     ]
    }
   ],
   "source": [
    "# Remove the file:\n",
    "!rm demo_folder/example.txt\n",
    "!ls demo_folder\n"
   ]
  },
  {
   "cell_type": "code",
   "execution_count": 7,
   "id": "3245b792",
   "metadata": {
    "slideshow": {
     "slide_type": "slide"
    }
   },
   "outputs": [
    {
     "name": "stdout",
     "output_type": "stream",
     "text": [
      "file1.txt       file1_copy.txt  file2.txt       file2_moved.txt\n",
      "file1.txt       file1_copy.txt  file2.txt       file2_moved.txt\n",
      "file1.txt       file1_copy.txt  file2_moved.txt\n"
     ]
    }
   ],
   "source": [
    "# ---\n",
    "# ## Copying and moving files\n",
    "\n",
    "# Create some demo files\n",
    "!echo \"Hello World\" > demo_folder/file1.txt\n",
    "!echo \"This is a test\" > demo_folder/file2.txt\n",
    "!ls demo_folder\n",
    "\n",
    "# Copy file1.txt to file1_copy.txt\n",
    "!cp demo_folder/file1.txt demo_folder/file1_copy.txt\n",
    "!ls demo_folder\n",
    "\n",
    "# Move file2.txt to file2_moved.txt\n",
    "!mv demo_folder/file2.txt demo_folder/file2_moved.txt\n",
    "!ls demo_folder\n"
   ]
  },
  {
   "cell_type": "code",
   "execution_count": 8,
   "id": "f323601d",
   "metadata": {
    "slideshow": {
     "slide_type": "slide"
    }
   },
   "outputs": [
    {
     "name": "stdout",
     "output_type": "stream",
     "text": [
      "Hello World\r\n"
     ]
    }
   ],
   "source": [
    "# ---\n",
    "# ## Viewing files\n",
    "\n",
    "# Use `more` or `less` to see file contents (less works better interactively)\n",
    "#!less demo_folder/file1.txt\n",
    "\n",
    "# Or just `cat` for simplicity in Jupyter:\n",
    "!cat demo_folder/file1.txt\n"
   ]
  },
  {
   "cell_type": "code",
   "execution_count": 9,
   "id": "50869602",
   "metadata": {
    "slideshow": {
     "slide_type": "slide"
    }
   },
   "outputs": [
    {
     "name": "stdout",
     "output_type": "stream",
     "text": [
      "Example:\n",
      "$ screen -S mysession\n",
      "$ Ctrl+a d  # detach session\n",
      "$ screen -r mysession  # reconnect\n"
     ]
    }
   ],
   "source": [
    "# ---\n",
    "# ## Using `screen` (simulation)\n",
    "# `screen` cannot be fully demonstrated inside Jupyter,\n",
    "# but you can show how to start a session:\n",
    "print(\"Example:\\n$ screen -S mysession\\n$ Ctrl+a d  # detach session\\n$ screen -r mysession  # reconnect\")\n"
   ]
  },
  {
   "cell_type": "code",
   "execution_count": 16,
   "id": "9e2e457b",
   "metadata": {
    "slideshow": {
     "slide_type": "slide"
    }
   },
   "outputs": [
    {
     "name": "stdout",
     "output_type": "stream",
     "text": [
      "/bin/zsh\r\n"
     ]
    }
   ],
   "source": [
    "# --\n",
    "# ## Sell\n",
    "!echo $SHELL"
   ]
  },
  {
   "cell_type": "code",
   "execution_count": 20,
   "id": "4c38aa0b",
   "metadata": {},
   "outputs": [
    {
     "data": {
      "text/markdown": [
       "\n",
       "| Shell | Strengths | Weaknesses | Best for |\n",
       "|-------|-----------|------------|----------|\n",
       "| **sh** (Bourne) | Minimal, available everywhere | Very limited interactively | Legacy scripts |\n",
       "| **bash** (Bourne Again) | Standard, POSIX-friendly, scripting powerhouse | Lacks some modern features | Teaching, scripting, servers |\n",
       "| **zsh** (Z Shell) | Smart autocomplete, plugins, themes, Oh My Zsh ecosystem | Slightly heavier, not always preinstalled | Daily work, power users |\n",
       "| **ksh** (Korn) | POSIX compliant, stable, strong for enterprise | Less common nowadays | Legacy UNIX systems |\n",
       "| **csh / tcsh** | C-like syntax, command history | Bad for scripting, outdated | Historical/academic interest |\n",
       "| **fish** (Friendly) | User-friendly, beautiful prompts, autosuggestions | Not POSIX compatible | Personal productivity |\n"
      ],
      "text/plain": [
       "<IPython.core.display.Markdown object>"
      ]
     },
     "metadata": {},
     "output_type": "display_data"
    }
   ],
   "source": [
    "# ---\n",
    "# jupyter:\n",
    "#   jupyter_rise:\n",
    "#     slide_type: slide\n",
    "# ---\n",
    "\n",
    "# ## Comparing Common UNIX Shells\n",
    "\n",
    "from IPython.display import Markdown\n",
    "\n",
    "table = \"\"\"\n",
    "| Shell | Strengths | Weaknesses | Best for |\n",
    "|-------|-----------|------------|----------|\n",
    "| **sh** (Bourne) | Minimal, available everywhere | Very limited interactively | Legacy scripts |\n",
    "| **bash** (Bourne Again) | Standard, POSIX-friendly, scripting powerhouse | Lacks some modern features | Teaching, scripting, servers |\n",
    "| **zsh** (Z Shell) | Smart autocomplete, plugins, themes, Oh My Zsh ecosystem | Slightly heavier, not always preinstalled | Daily work, power users |\n",
    "| **ksh** (Korn) | POSIX compliant, stable, strong for enterprise | Less common nowadays | Legacy UNIX systems |\n",
    "| **csh / tcsh** | C-like syntax, command history | Bad for scripting, outdated | Historical/academic interest |\n",
    "| **fish** (Friendly) | User-friendly, beautiful prompts, autosuggestions | Not POSIX compatible | Personal productivity |\n",
    "\"\"\"\n",
    "\n",
    "display(Markdown(table))\n"
   ]
  },
  {
   "cell_type": "code",
   "execution_count": 10,
   "id": "d701de91",
   "metadata": {
    "slideshow": {
     "slide_type": "slide"
    }
   },
   "outputs": [
    {
     "name": "stdout",
     "output_type": "stream",
     "text": [
      "Se añadieron alias y variable al /Users/hernando/.bashrc\n",
      "Ejecuta: source ~/.bashrc para aplicar los cambios.\n"
     ]
    }
   ],
   "source": [
    "import os\n",
    "\n",
    "# Ruta al bashrc del usuario\n",
    "bashrc_path = os.path.expanduser(\"~/.bashrc\")\n",
    "\n",
    "# Definimos alias y variable\n",
    "alias_line = \"alias ll='ls -lh'\\n\"\n",
    "var_line   = \"export MY_PROJECT_PATH=~/projects/myapp\\n\"\n",
    "\n",
    "# Escribimos (añadiendo al final del fichero)\n",
    "with open(bashrc_path, \"a\") as f:\n",
    "    f.write(\"\\n# Custom settings added by Python script\\n\")\n",
    "    f.write(alias_line)\n",
    "    f.write(var_line)\n",
    "\n",
    "print(f\"Se añadieron alias y variable al {bashrc_path}\")\n",
    "print(\"Ejecuta: source ~/.bashrc para aplicar los cambios.\")\n"
   ]
  },
  {
   "cell_type": "code",
   "execution_count": 11,
   "id": "969e12f4",
   "metadata": {
    "slideshow": {
     "slide_type": "slide"
    }
   },
   "outputs": [
    {
     "name": "stdout",
     "output_type": "stream",
     "text": [
      "alias ll='ls -lh'\n",
      "\n",
      "# Custom settings added by Python script\n",
      "alias ll='ls -lh'\n",
      "export MY_PROJECT_PATH=~/projects/myapp\n",
      "alias ll='ls -lh'\n",
      "\n",
      "# Custom settings added by Python script\n",
      "alias ll='ls -lh'\n",
      "export MY_PROJECT_PATH=~/projects/myapp\n",
      "Added alias ll='ls -lh' (effective in new shell sessions)\n"
     ]
    }
   ],
   "source": [
    "# ---\n",
    "# ## Shell customization: `.bashrc`\n",
    "\n",
    "# You can show the contents of a `.bashrc` file:\n",
    "!cat ~/.bashrc | tail -n 10\n",
    "\n",
    "# Add a temporary alias for the notebook session:\n",
    "!echo \"alias ll='ls -lh'\" >> ~/.bashrc\n",
    "print(\"Added alias ll='ls -lh' (effective in new shell sessions)\")\n",
    "\n"
   ]
  },
  {
   "cell_type": "code",
   "execution_count": 19,
   "id": "f4ff8a59",
   "metadata": {
    "slideshow": {
     "slide_type": "slide"
    }
   },
   "outputs": [
    {
     "name": "stdout",
     "output_type": "stream",
     "text": [
      "zsh:1: command not found: ll\r\n"
     ]
    }
   ],
   "source": [
    "!source fca_script.sh\n",
    "!ll"
   ]
  },
  {
   "cell_type": "code",
   "execution_count": 12,
   "id": "b5758ffe",
   "metadata": {
    "slideshow": {
     "slide_type": "slide"
    }
   },
   "outputs": [],
   "source": [
    "# ---\n",
    "# ## Practical Exercise\n",
    "\n",
    "# 1. Create a folder `FCA`\n",
    "# 2. Move into it \n",
    "# 3. Create README.md file\n",
    "# 4. Show its contents\n"
   ]
  }
 ],
 "metadata": {
  "celltoolbar": "Slideshow",
  "kernelspec": {
   "display_name": "Python 3 (ipykernel)",
   "language": "python",
   "name": "python3"
  },
  "language_info": {
   "codemirror_mode": {
    "name": "ipython",
    "version": 3
   },
   "file_extension": ".py",
   "mimetype": "text/x-python",
   "name": "python",
   "nbconvert_exporter": "python",
   "pygments_lexer": "ipython3",
   "version": "3.9.13"
  }
 },
 "nbformat": 4,
 "nbformat_minor": 5
}
