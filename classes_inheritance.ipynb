{
 "cells": [
  {
   "cell_type": "markdown",
   "metadata": {
    "slideshow": {
     "slide_type": "slide"
    }
   },
   "source": [
    "# Computational Physics \n",
    "\n",
    "\n",
    "## More about Python : Functions and Classes\n",
    "\n",
    "\n",
    "#### *J.A. Hernando Morata*, in collaboration wtih *G. Martínez-Lema*, *M. Kekic*.\n",
    "####  USC, October 2020 \n",
    "\n",
    "\n",
    "\n",
    "## Inheritance"
   ]
  },
  {
   "cell_type": "code",
   "execution_count": 14,
   "metadata": {
    "slideshow": {
     "slide_type": "fragment"
    }
   },
   "outputs": [
    {
     "name": "stdout",
     "output_type": "stream",
     "text": [
      " Last revision  Tue Oct 26 18:41:09 2021\n"
     ]
    }
   ],
   "source": [
    "import time\n",
    "print(' Last revision ', time.asctime())"
   ]
  },
  {
   "cell_type": "markdown",
   "metadata": {
    "slideshow": {
     "slide_type": "slide"
    }
   },
   "source": [
    "## 1. Inheritance\n",
    "\n",
    "###  1.1 Concept of inheritance \n",
    "\n",
    "The previous figure shows a tree of vehicles. All of them are vehicles, but the boat, of course, has not wheels. A bike, or a car are wheeled vehicles. But a car has a motor and bikes don't.\n",
    "\n",
    "<img src=\"./img/classes_inheritance.jpeg\" width=\"500\" height=\"400\">"
   ]
  },
  {
   "cell_type": "markdown",
   "metadata": {
    "slideshow": {
     "slide_type": "slide"
    }
   },
   "source": [
    "\n",
    "**Inheritance** in **Object Oriented** (OO) lenguages allows you to set a tree of dependences between classes. \n",
    "\n",
    "The attributes and methods of the mother class are inherited from the daughter class. Daughter classes are called **derived classes**. \n",
    "\n",
    "A derived class can modify the methods of its mother. For example, a vehicle class can have a method *run()*, the speed of each vehicle will be different, some of them will run on the water surface, others not. The method *run()* can be over-writen by the derived class to define a maximum speed or to indicate on what medium the vehicle runs.\n",
    "\n",
    "\n",
    "Consider the matrix class, there is a subclass that is squared matrix. It has the same number of row and columns. It is an specific case of a general matrix. That is, it derives from the matrix class.\n"
   ]
  },
  {
   "cell_type": "markdown",
   "metadata": {
    "slideshow": {
     "slide_type": "slide"
    }
   },
   "source": [
    "Inheritance allows you to write code in different levels. There is a basic code that can run on all kind of vehicles, there is a more specific code that can run only in bicycles, and other than runs only in cars. If you hace a code that runs in vehicles, when you create a new vehicle class, for example train, the code will also run for trains! This makes the code reusable. \n",
    "\n",
    "Inheritance is fundamental in some lenguages, for example C++. This is not the case in Python where seldomly you will find derived classes. The reason is that Python is not strongly typed.  "
   ]
  },
  {
   "cell_type": "markdown",
   "metadata": {
    "slideshow": {
     "slide_type": "slide"
    }
   },
   "source": [
    "### 1.2  Interface and Base class\n",
    "\n",
    "There are two types of primordial mother classes, they are called **Interface** or **Base class**. The difference between both is its use.\n",
    "\n",
    "We define an *Interface* when we want to inforce that the derived classes must have a given set of methods. An *Interface* has virtual methods, that is, they do nothing! \n",
    "\n",
    "We are used to interfaces in the real world. The electricity plugs have well defined *hardware* interfaces. In Continental Europe plugs have to cylindrical pins, unfortunately the U.K plugs are different, the pins are flat! Europe and U.K. do not share the same interface! And unfortunately we need to use a connector when we travel to U.K.!"
   ]
  },
  {
   "cell_type": "markdown",
   "metadata": {
    "slideshow": {
     "slide_type": "slide"
    }
   },
   "source": [
    "\n",
    "A *Base class* is a class expected to have some derived classes, but all its methods are implemented, they provide a basic behavior. Now the derived classes can change that behavior, if they need to do so.\n",
    "  \n",
    "A *Base class* has a constructor, while an *Interface* has not. "
   ]
  },
  {
   "cell_type": "markdown",
   "metadata": {
    "slideshow": {
     "slide_type": "slide"
    }
   },
   "source": [
    "The following, *IShape*, is an example of an interface. \n",
    "\n",
    "It defines de method we expect to have any *Shape* class. They are: *perimeter()* and *area()*. \n",
    "\n",
    "The methods should compute the perimer and the area of the shape. \n",
    "\n",
    "The example contains two derived classes: *Rectangle* and *Disk* that implement these methods. \n",
    "\n",
    "There is a third derived class, *Square*, that derives from *Rectagle*."
   ]
  },
  {
   "cell_type": "code",
   "execution_count": 2,
   "metadata": {
    "slideshow": {
     "slide_type": "slide"
    }
   },
   "outputs": [],
   "source": [
    "import math\n",
    "\n",
    "class IShape:\n",
    "    \"\"\" Interface for Shape classes, defines the perimeter and area methods\n",
    "    \"\"\"\n",
    "    \n",
    "    def perimeter(self):\n",
    "        \"\"\" returns the perimeter of the shape\n",
    "        \"\"\"\n",
    "        return None\n",
    "    \n",
    "    def area(self):\n",
    "        \"\"\" returns the area of the shape\n",
    "        \"\"\"\n",
    "        return None"
   ]
  },
  {
   "cell_type": "code",
   "execution_count": 3,
   "metadata": {
    "slideshow": {
     "slide_type": "slide"
    }
   },
   "outputs": [],
   "source": [
    "class Disk(IShape):\n",
    "    \"\"\" Disk Shape class\n",
    "    \"\"\"\n",
    "    \n",
    "    def __init__(self, radius):\n",
    "        self.radius = radius\n",
    "        return\n",
    "        \n",
    "    def perimeter(self):\n",
    "        return 2. * math.pi * self.radius\n",
    "    \n",
    "    def area(self):\n",
    "        return math.pi * self.radius * self.radius"
   ]
  },
  {
   "cell_type": "code",
   "execution_count": 4,
   "metadata": {
    "slideshow": {
     "slide_type": "slide"
    }
   },
   "outputs": [],
   "source": [
    "class Rectangle(IShape):\n",
    "    \"\"\" Rectangle Shape class\n",
    "    \"\"\"\n",
    "    \n",
    "    def __init__(self, width, height):\n",
    "        self.width  = width\n",
    "        self.height = height\n",
    "        return\n",
    "    \n",
    "    def perimeter(self):\n",
    "        return 2. * (self.width + self.height)\n",
    "    \n",
    "    def area(self):\n",
    "        return self.width * self.height"
   ]
  },
  {
   "cell_type": "code",
   "execution_count": 5,
   "metadata": {
    "slideshow": {
     "slide_type": "slide"
    }
   },
   "outputs": [],
   "source": [
    "class Square(Rectangle):\n",
    "    \"\"\" Square Shape class\n",
    "    \"\"\"\n",
    "    \n",
    "    def __init__(self, size):\n",
    "        Rectangle.__init__(self, size, size)\n",
    "        return"
   ]
  },
  {
   "cell_type": "markdown",
   "metadata": {
    "slideshow": {
     "slide_type": "slide"
    }
   },
   "source": [
    "The *IShape* class is an *Interface*. It is pure virtual, has no constructor, and its method are empty. Its purpose is to inforce that all the derived classes implement those methods.\n",
    "\n",
    "The *Disk* and *Rectangle* classes are derived from *IShape*. The syntax to define a derived class is to put between *()* in the class definition line the name of the mother class, that is: *DerivedClass(MotherClass)*. *Disk* and *Rectangle* have constructors and they implement the methods of the interface."
   ]
  },
  {
   "cell_type": "markdown",
   "metadata": {
    "slideshow": {
     "slide_type": "slide"
    }
   },
   "source": [
    "\n",
    "The *Square* class derives from *Rectangle*. It has a constructor that calls the constructor of a *Rectangle*! Notice the syntax: it pass it-*self* to be configured by the constructor of Rectangle!\n",
    "\n",
    "The *Square* class reuses the *perimeter()* and *area()* methods of its mother class, *Rectangle*. They do not need to be implemented again!\n",
    "\n",
    "In the next cell, we construct a rectangle, a square and a disk, and then we compute the total area of the tree."
   ]
  },
  {
   "cell_type": "code",
   "execution_count": 6,
   "metadata": {
    "slideshow": {
     "slide_type": "slide"
    }
   },
   "outputs": [
    {
     "name": "stdout",
     "output_type": "stream",
     "text": [
      "Areas  [3.141592653589793, 6.0, 4.0]\n",
      "Total area  13.141592653589793\n",
      "Perimeters  [6.283185307179586, 10.0, 8.0]\n",
      "Total perimeters length  24.283185307179586\n"
     ]
    }
   ],
   "source": [
    "disk      = Disk(1.)\n",
    "rectangle = Rectangle(2., 3.)\n",
    "square    = Square(2.)\n",
    "\n",
    "areas     = [shape.area() for shape in [disk, rectangle, square]]\n",
    "print ('Areas ', areas)\n",
    "print ('Total area ', sum(areas))\n",
    "\n",
    "pers =  [shape.perimeter() for shape in [disk, rectangle, square]]\n",
    "print ('Perimeters ', pers)\n",
    "print ('Total perimeters length ', sum(pers))"
   ]
  },
  {
   "cell_type": "markdown",
   "metadata": {
    "slideshow": {
     "slide_type": "slide"
    }
   },
   "source": [
    "Inheritance is an elegant way to extend the functionality of a 'mother' or 'base' class. In this example, we inheritate from list and add some extra funcionality."
   ]
  },
  {
   "cell_type": "code",
   "execution_count": 15,
   "metadata": {
    "slideshow": {
     "slide_type": "slide"
    }
   },
   "outputs": [],
   "source": [
    "class Mylist(list):\n",
    "    \n",
    "    def order(self):\n",
    "        return sorted(self, reverse = True)"
   ]
  },
  {
   "cell_type": "code",
   "execution_count": 16,
   "metadata": {
    "slideshow": {
     "slide_type": "fragment"
    }
   },
   "outputs": [
    {
     "name": "stdout",
     "output_type": "stream",
     "text": [
      "my list   [1, 2, 3, 4] , is of type  <class '__main__.Mylist'>\n",
      "my order  [4, 3, 2, 1]\n"
     ]
    }
   ],
   "source": [
    "x = Mylist([1, 2, 3, 4])\n",
    "print('my list  ', x, ', is of type ', type(x))\n",
    "\n",
    "xc = x.order()\n",
    "print('my order ', xc)"
   ]
  },
  {
   "cell_type": "markdown",
   "metadata": {
    "slideshow": {
     "slide_type": "slide"
    }
   },
   "source": [
    "> A note about Interfaces in Python: \n",
    "\n",
    "> As we said before, in Python, inheritance is not common. Consider the case that the *Disk* and *Rectangle* classes do not inherit from *IShape* but still they implement the methods *perimeter()* and *area()*. In that case, does the code of the previous cell still work? \n",
    "\n",
    "> The answer is yes! It will work because Python is not strongly typed. for the *x.perimeter()* statement to work, the only thing that is required is that *x* is of a type that has defined a *perimeter()* method. It does not require that it previously derives from *IShape*! \n",
    "\n",
    ">If we keep the interface and use them in PYthon, is just to remind us and other developers that better implement these two methods!"
   ]
  },
  {
   "cell_type": "markdown",
   "metadata": {
    "slideshow": {
     "slide_type": "slide"
    }
   },
   "source": [
    "## 2. Exceptions"
   ]
  },
  {
   "cell_type": "markdown",
   "metadata": {
    "slideshow": {
     "slide_type": "slide"
    }
   },
   "source": [
    "Exceptions in Python are classes. \n",
    "\n",
    "This is a tree of derived classes depending on the type of the exception (See the following frame):"
   ]
  },
  {
   "cell_type": "code",
   "execution_count": 9,
   "metadata": {
    "slideshow": {
     "slide_type": "slide"
    }
   },
   "outputs": [
    {
     "data": {
      "text/html": [
       "\n",
       "        <iframe\n",
       "            width=\"800\"\n",
       "            height=\"350\"\n",
       "            src=\"https://docs.python.org/2/library/exceptions.html#exception-hierarchy\"\n",
       "            frameborder=\"0\"\n",
       "            allowfullscreen\n",
       "        ></iframe>\n",
       "        "
      ],
      "text/plain": [
       "<IPython.lib.display.IFrame at 0x7f8d61124400>"
      ]
     },
     "execution_count": 9,
     "metadata": {},
     "output_type": "execute_result"
    }
   ],
   "source": [
    "from IPython.display import IFrame\n",
    "IFrame('https://docs.python.org/2/library/exceptions.html#exception-hierarchy',\n",
    "       width=800, height=350)"
   ]
  },
  {
   "cell_type": "markdown",
   "metadata": {
    "slideshow": {
     "slide_type": "slide"
    }
   },
   "source": [
    "For example *ZeroDivisionError* derives from *AritmeticError*, that it comes from *StandardErrot*, etc.\n",
    "\n",
    "When catching exceptions, you can decide to cath the derived class or the mother class. Let's see it with the following example:"
   ]
  },
  {
   "cell_type": "code",
   "execution_count": 17,
   "metadata": {
    "slideshow": {
     "slide_type": "slide"
    }
   },
   "outputs": [
    {
     "name": "stdout",
     "output_type": "stream",
     "text": [
      " Division by zero! \n",
      " Aritmetic Error! \n"
     ]
    }
   ],
   "source": [
    "x, y = 1., 0.\n",
    "\n",
    "try:\n",
    "    z = x/y\n",
    "except ZeroDivisionError:\n",
    "    print(' Division by zero! ')\n",
    "    \n",
    "try:\n",
    "    z = x/y\n",
    "except ArithmeticError:\n",
    "    print(' Aritmetic Error! ')\n"
   ]
  },
  {
   "cell_type": "markdown",
   "metadata": {
    "slideshow": {
     "slide_type": "slide"
    }
   },
   "source": [
    "You can implement your own exception class derived for example from *ZeroDivisionError*."
   ]
  },
  {
   "cell_type": "code",
   "execution_count": 19,
   "metadata": {
    "slideshow": {
     "slide_type": "slide"
    }
   },
   "outputs": [
    {
     "ename": "ToleranceDivisionError",
     "evalue": "Value : 1e-15 is not valid",
     "output_type": "error",
     "traceback": [
      "\u001b[0;31m---------------------------------------------------------------------------\u001b[0m",
      "\u001b[0;31mToleranceDivisionError\u001b[0m                    Traceback (most recent call last)",
      "\u001b[0;32m<ipython-input-19-977645f49602>\u001b[0m in \u001b[0;36m<module>\u001b[0;34m\u001b[0m\n\u001b[1;32m      7\u001b[0m \u001b[0my\u001b[0m \u001b[0;34m=\u001b[0m \u001b[0;36m1e-15\u001b[0m\u001b[0;34m\u001b[0m\u001b[0;34m\u001b[0m\u001b[0m\n\u001b[1;32m      8\u001b[0m \u001b[0;32mif\u001b[0m \u001b[0;34m(\u001b[0m\u001b[0mabs\u001b[0m\u001b[0;34m(\u001b[0m\u001b[0my\u001b[0m\u001b[0;34m)\u001b[0m \u001b[0;34m<\u001b[0m \u001b[0;36m1e-6\u001b[0m\u001b[0;34m)\u001b[0m\u001b[0;34m:\u001b[0m\u001b[0;34m\u001b[0m\u001b[0;34m\u001b[0m\u001b[0m\n\u001b[0;32m----> 9\u001b[0;31m     \u001b[0;32mraise\u001b[0m \u001b[0mToleranceDivisionError\u001b[0m\u001b[0;34m(\u001b[0m\u001b[0my\u001b[0m\u001b[0;34m)\u001b[0m\u001b[0;34m\u001b[0m\u001b[0;34m\u001b[0m\u001b[0m\n\u001b[0m",
      "\u001b[0;31mToleranceDivisionError\u001b[0m: Value : 1e-15 is not valid"
     ]
    }
   ],
   "source": [
    "class ToleranceDivisionError(ZeroDivisionError):\n",
    "    def __init__(self, value):\n",
    "        self.value = value\n",
    "    def __str__(self):\n",
    "        return 'Value : ' + str(self.value) + ' is not valid' \n",
    "    \n",
    "y = 1e-15\n",
    "if (abs(y) < 1e-6):\n",
    "    raise ToleranceDivisionError(y)"
   ]
  },
  {
   "cell_type": "code",
   "execution_count": null,
   "metadata": {},
   "outputs": [],
   "source": []
  }
 ],
 "metadata": {
  "anaconda-cloud": {},
  "celltoolbar": "Slideshow",
  "kernelspec": {
   "display_name": "Python 3",
   "language": "python",
   "name": "python3"
  },
  "language_info": {
   "codemirror_mode": {
    "name": "ipython",
    "version": 3
   },
   "file_extension": ".py",
   "mimetype": "text/x-python",
   "name": "python",
   "nbconvert_exporter": "python",
   "pygments_lexer": "ipython3",
   "version": "3.8.8"
  }
 },
 "nbformat": 4,
 "nbformat_minor": 1
}
