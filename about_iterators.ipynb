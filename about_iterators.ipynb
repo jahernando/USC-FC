{
 "cells": [
  {
   "cell_type": "markdown",
   "metadata": {
    "slideshow": {
     "slide_type": "slide"
    }
   },
   "source": [
    "# Python Course on Classes and Functional Programming\n",
    "\n",
    "## *J.A. Hernando, USC, 2020*\n",
    "\n",
    "## Functional Programming - Iterators and Generators"
   ]
  },
  {
   "cell_type": "code",
   "execution_count": 1,
   "metadata": {
    "slideshow": {
     "slide_type": "fragment"
    }
   },
   "outputs": [
    {
     "name": "stdout",
     "output_type": "stream",
     "text": [
      " Last revision  Wed Oct  1 16:21:40 2025\n"
     ]
    }
   ],
   "source": [
    "import time\n",
    "print(' Last revision ', time.asctime())"
   ]
  },
  {
   "cell_type": "markdown",
   "metadata": {
    "slideshow": {
     "slide_type": "slide"
    }
   },
   "source": [
    "\n",
    "## 1. Iterators\n",
    "\n",
    "In many cases you want to run a function over a set of items, a stream. Iterators are objects that represent that stream. \n",
    "\n",
    "An iterator returns the next object in the stream when applying the *next()* method to it. When the end of the stream is reached, the iterator raises a *StopIteration* exception.  \n",
    "\n",
    "An object is iterable if it can provide an iterator. \n",
    "\n",
    "List, tuples, dictionaries and strings are iterables. The way to get the iterator is via the *iter()* builtin function."
   ]
  },
  {
   "cell_type": "markdown",
   "metadata": {
    "slideshow": {
     "slide_type": "slide"
    }
   },
   "source": [
    "When dealing with *for* statements, we are in fact dealing with iterators. Here is a 'low' level code that shows how the list iterator works. When you are using the *for* statement, it simplifies most of this work for you!"
   ]
  },
  {
   "cell_type": "code",
   "execution_count": 2,
   "metadata": {
    "slideshow": {
     "slide_type": "slide"
    }
   },
   "outputs": [
    {
     "name": "stdout",
     "output_type": "stream",
     "text": [
      "iter(x) is of type  <class 'list_iterator'>\n",
      "list is  [0, 1, 2]\n",
      "item  0\n",
      "item  1\n",
      "item  2\n",
      "end of iteration reached!\n",
      "item  0\n",
      "item  1\n",
      "item  2\n"
     ]
    }
   ],
   "source": [
    "x   = list(range(3))\n",
    "itx = iter(x)\n",
    "print('iter(x) is of type ', type(itx))\n",
    "print('list is ', x)\n",
    "\n",
    "go = True\n",
    "while go:\n",
    "    try: \n",
    "        xi = next(itx)\n",
    "        print('item ', xi)\n",
    "    except StopIteration:\n",
    "        go = False\n",
    "        print('end of iteration reached!')\n",
    "        \n",
    "for xi in x:\n",
    "    print('item ', xi)"
   ]
  },
  {
   "cell_type": "markdown",
   "metadata": {
    "slideshow": {
     "slide_type": "slide"
    }
   },
   "source": [
    "Something similar happens with strings:"
   ]
  },
  {
   "cell_type": "code",
   "execution_count": 3,
   "metadata": {
    "slideshow": {
     "slide_type": "slide"
    }
   },
   "outputs": [
    {
     "name": "stdout",
     "output_type": "stream",
     "text": [
      "string is  Hello!\n",
      "letter  H\n",
      "letter  e\n",
      "letter  l\n",
      "letter  l\n",
      "letter  o\n",
      "letter  !\n",
      "end of iteration reached!\n",
      "letter  H\n",
      "letter  e\n",
      "letter  l\n",
      "letter  l\n",
      "letter  o\n",
      "letter  !\n"
     ]
    }
   ],
   "source": [
    "x = 'Hello!'\n",
    "itx = iter(x)\n",
    "print('string is ', x)\n",
    "\n",
    "go = True\n",
    "while go:\n",
    "    try: \n",
    "        xi = next(itx)\n",
    "        print('letter ', xi)\n",
    "    except StopIteration:\n",
    "        go = False\n",
    "        print('end of iteration reached!')\n",
    "\n",
    "for xi in x:\n",
    "    print('letter ', xi)"
   ]
  },
  {
   "cell_type": "markdown",
   "metadata": {
    "slideshow": {
     "slide_type": "slide"
    }
   },
   "source": [
    "\n",
    "### List from iterators\n",
    "\n",
    "We can recover a list (or tuple) from a interator. *list(iterator)* will produce the list with the rest of items in the iterator."
   ]
  },
  {
   "cell_type": "code",
   "execution_count": 4,
   "metadata": {
    "slideshow": {
     "slide_type": "fragment"
    }
   },
   "outputs": [
    {
     "name": "stdout",
     "output_type": "stream",
     "text": [
      "original list  range(0, 4)\n",
      "first item in the iterator  0\n",
      "a list with the other items  [1, 2, 3]\n"
     ]
    }
   ],
   "source": [
    "ns = range(4)\n",
    "print('original list ', ns)\n",
    "\n",
    "# getting the iterator of the list\n",
    "it = iter(ns) \n",
    "print('first item in the iterator ', next(it) )\n",
    "\n",
    "# getting the list of the rest of the iterator\n",
    "xns = list(it)\n",
    "print('a list with the other items ', xns)"
   ]
  },
  {
   "cell_type": "markdown",
   "metadata": {
    "slideshow": {
     "slide_type": "slide"
    }
   },
   "source": [
    "## 2. Generators\n",
    "\n",
    "Generators are special functions that returns an iterator, the generator function resumes when *next()* is applied to it. Generators do not use the *return* statement, instead they use *yield*. A return in a generator indicates end of the iterator and it raises the *StopIteration* exception.\n",
    "\n",
    "This is an explample of generator for even numbers:"
   ]
  },
  {
   "cell_type": "code",
   "execution_count": 5,
   "metadata": {
    "slideshow": {
     "slide_type": "slide"
    }
   },
   "outputs": [],
   "source": [
    "def generator_even(n):\n",
    "    \"\"\" returns an iterator in the event number of the list [0,..., n-1]\n",
    "    \"\"\"\n",
    "    ns = range(n)\n",
    "    evens = [ni for ni in ns if ni%2 == 0]\n",
    "    for ev in evens:\n",
    "        yield ev\n",
    "    return"
   ]
  },
  {
   "cell_type": "code",
   "execution_count": 6,
   "metadata": {
    "slideshow": {
     "slide_type": "slide"
    }
   },
   "outputs": [
    {
     "name": "stdout",
     "output_type": "stream",
     "text": [
      "type  <generator object generator_even at 0x7fa520b5b3c0>\n",
      "item! =  0\n",
      "item = 2\n",
      "item = 4\n",
      "item = 6\n",
      "item = 8\n"
     ]
    }
   ],
   "source": [
    "# create the generator of even numbers from 0 to 10\n",
    "it = generator_even(10)\n",
    "print('type ', it)\n",
    "\n",
    "# get the first item in the iterator\n",
    "print('item! = ', next(it))\n",
    "\n",
    "# loop in the rest of item in the iterator\n",
    "for itv in it:\n",
    "    print('item =', itv)"
   ]
  },
  {
   "cell_type": "markdown",
   "metadata": {
    "slideshow": {
     "slide_type": "slide"
    }
   },
   "source": [
    "We can force the iterator from a generator to end or to jump to a given value.\n",
    "\n",
    "To end the iteration, apply to the iterator the *close()* method.\n",
    "\n",
    "To jump to a given value, apply *send(value)* method. To do so, we need to modify the generator to define the variable associated to the running value, in the example above, it is *val*. If the *send()* method is applied the value inside the generator changes from *None* to the value. We need to catch it and proceed accordingly.\n",
    "\n",
    "Let's see an example:"
   ]
  },
  {
   "cell_type": "code",
   "execution_count": 7,
   "metadata": {
    "slideshow": {
     "slide_type": "slide"
    }
   },
   "outputs": [],
   "source": [
    "def generator_rest(n, n0 = 2):\n",
    "    ni = 0\n",
    "    while (ni < n):\n",
    "        val = (yield ni)\n",
    "        if (val != None and val < n):\n",
    "            ni = n0 * int(val/n0)\n",
    "        else:\n",
    "            ni = ni + n0\n",
    "    return"
   ]
  },
  {
   "cell_type": "code",
   "execution_count": 8,
   "metadata": {
    "slideshow": {
     "slide_type": "slide"
    }
   },
   "outputs": [
    {
     "name": "stdout",
     "output_type": "stream",
     "text": [
      "generator tuple  (0, 3, 6, 9)\n",
      "item 1st is  0\n",
      "jump to 7\n",
      "item now is  6\n",
      "next item is  9\n"
     ]
    }
   ],
   "source": [
    "# get the tuple from the generator\n",
    "ns = tuple(generator_rest(10, 3))\n",
    "print ('generator tuple ', ns)\n",
    "\n",
    "# get the iterator of the generator\n",
    "it = generator_rest(10, 3)\n",
    "print('item 1st is ', next(it))\n",
    "\n",
    "# jump to iterator to the 7!\n",
    "print('jump to', 7)\n",
    "print('item now is ', it.send(7))\n",
    "print('next item is ', next(it))\n",
    "\n",
    "# close the iteration\n",
    "it.close()"
   ]
  },
  {
   "cell_type": "markdown",
   "metadata": {
    "slideshow": {
     "slide_type": "slide"
    }
   },
   "source": [
    "----\n",
    "## 3. Summary\n",
    "\n",
    "We have seen that Python provides powerful tools for Functional Programming:\n",
    "\n",
    "  1. Users can navigate iterables using iterators.\n",
    "  2. List, tuples, dictionary and strings are iterable objects\n",
    "  1. Users can customized generators to provide iterators.\n",
    "  3. Functions can be called recersevely.\n",
    "  3. Function arguments can be set by default, passed by tuples or dictionaries.\n",
    "  5. Functions can return more then one result.\n",
    "  6. Functions can return a function.\n",
    "  7. Functions can be constructed in the flight using *lambda*.\n",
    "  8. There are nice list compressions tools, such as *reduce()*\n",
    "  9. There are very powerful list expressions, such as *map()* or *[predicate in item for iterable if condition]*\n",
    "  10. There are list reduction tools, such as *filter()* of using the *[predicate in item for iterable if condition]*\n",
    "  "
   ]
  },
  {
   "cell_type": "markdown",
   "metadata": {},
   "source": [
    "### Bibliography\n",
    "\n",
    "  1. \"Structure and Iterpretation of Computer Programs\", H. Abelson, G. J. Sussman and J. Sussman. Mc Graw-Hill (1996), (https://mitpress.mit.edu/sicp/full-text/book/book-Z-H-4.html)\n",
    "  2. Phython org (https://docs.python.org/2/howto/functional.html)"
   ]
  }
 ],
 "metadata": {
  "anaconda-cloud": {},
  "celltoolbar": "Slideshow",
  "kernelspec": {
   "display_name": "base",
   "language": "python",
   "name": "python3"
  },
  "language_info": {
   "codemirror_mode": {
    "name": "ipython",
    "version": 3
   },
   "file_extension": ".py",
   "mimetype": "text/x-python",
   "name": "python",
   "nbconvert_exporter": "python",
   "pygments_lexer": "ipython3",
   "version": "3.9.13"
  }
 },
 "nbformat": 4,
 "nbformat_minor": 1
}
