{
 "cells": [
  {
   "cell_type": "markdown",
   "metadata": {
    "slideshow": {
     "slide_type": "slide"
    }
   },
   "source": [
    "# Computational Physics \n",
    "\n",
    "\n",
    "## More about Python : Functions and Classes\n",
    "\n",
    "\n",
    "#### *J.A. Hernando Morata*, in collaboration wtih *G. Martínez-Lema*, *M. Kekic*.\n",
    "####  USC, October 2020 \n",
    "\n",
    "\n",
    "\n",
    "## Classes"
   ]
  },
  {
   "cell_type": "code",
   "execution_count": 1,
   "metadata": {
    "slideshow": {
     "slide_type": "fragment"
    }
   },
   "outputs": [
    {
     "name": "stdout",
     "output_type": "stream",
     "text": [
      " Last revision  Fri Oct 15 18:57:08 2021\n"
     ]
    }
   ],
   "source": [
    "import time\n",
    "print(' Last revision ', time.asctime())"
   ]
  },
  {
   "cell_type": "markdown",
   "metadata": {
    "slideshow": {
     "slide_type": "slide"
    }
   },
   "source": [
    "----\n",
    "## 1. Classes: A practical example, define a complex number.\n",
    "\n",
    "For pedagogic purposes we are going to code a complex number class, but instead of using as attributes the real and imaginary part we will use the module and the phase."
   ]
  },
  {
   "cell_type": "markdown",
   "metadata": {
    "slideshow": {
     "slide_type": "slide"
    }
   },
   "source": [
    "Before coding a class, we should identify the elements of the class: its **attributes** and its **methods**. \n",
    "\n",
    "For our complex number, the attribures are the *module* and the *phase*.\n",
    "\n",
    "While the operatios are the same that we have in the python builtin complex class: *abs, add, subs, prod, conjugate, str,* etc, with the adition of *real* and *img* methods.\n"
   ]
  },
  {
   "cell_type": "markdown",
   "metadata": {
    "slideshow": {
     "slide_type": "slide"
    }
   },
   "source": [
    "An essential method is the constructor. \n",
    "\n",
    "The constructor is the method that creates the object, that is, it sets its attributes. \n",
    "\n",
    "The construtor has the special method __init__ and to call a constructor we simply use a function that is the name of the class.  In our case, the constructor will take the module and the phase of the complex number and create it.\n",
    "\n",
    "To distinguish our class from the python complex class, we will defined as *Complex*, with 'C' in uppercase. In doing so, we also follow the recomendations of pep8."
   ]
  },
  {
   "cell_type": "markdown",
   "metadata": {
    "slideshow": {
     "slide_type": "slide"
    }
   },
   "source": [
    "### 1.1 The syntax for Class\n",
    "\n",
    "The following cell contains the partial definition of the *Complex* class:"
   ]
  },
  {
   "cell_type": "code",
   "execution_count": 2,
   "metadata": {
    "slideshow": {
     "slide_type": "slide"
    }
   },
   "outputs": [],
   "source": [
    "import math\n",
    "\n",
    "class Complex:\n",
    "    \"\"\" Complex number with module and phase as attributes\n",
    "    \"\"\"\n",
    "        \n",
    "    def __init__(self, mod, phase):\n",
    "        \"\"\" To construct a complex number from the module and the phase\n",
    "        \"\"\"\n",
    "        if (mod < 0): \n",
    "            raise TypeError('module must be zero or positive')\n",
    "        self.mod   = mod\n",
    "        self.phase = phase\n",
    "        return\n",
    "    \n",
    "    def real(self):\n",
    "        \"\"\" return the real part\n",
    "        \"\"\"\n",
    "        real = self.mod * math.cos(self.phase) \n",
    "        return real\n",
    " \n",
    "    def img(self):\n",
    "        \"\"\" return the imaginary part\n",
    "        \"\"\"\n",
    "        img = self.mod * math.sin(self.phase)\n",
    "        return img\n",
    "    \n",
    "    def __abs__(self):\n",
    "        \"\"\" return the module\n",
    "        \"\"\"\n",
    "        return self.mod\n",
    "    \n",
    "    def __add__(self, y):\n",
    "        \"\"\" add to complex numbers <=> x+y\n",
    "        \"\"\"\n",
    "        real = self.real() + y.real()\n",
    "        img  = self.img()  + y.img()\n",
    "        mod  = math.sqrt(real*real + img*img)\n",
    "        phase = 0.\n",
    "        if (mod > 0): \n",
    "            phase = math.acos(real / mod)\n",
    "        return Complex(mod, phase)\n",
    "    \n",
    "    def __mul__(self, y):\n",
    "        \"\"\" the product of two complex numbers: x*y\n",
    "        \"\"\" \n",
    "        mod   = self.mod   * y.mod\n",
    "        phase = self.phase + y.phase\n",
    "        return Complex(mod, phase)\n",
    "        \n",
    "    def conjugate(self):\n",
    "        \"\"\" complex conjugate\n",
    "        \"\"\"\n",
    "        return Complex(self.mod, -1. * self.phase)\n",
    "    \n",
    "    def __str__(self):\n",
    "        \"\"\" convert to a string\n",
    "        \"\"\"\n",
    "        s = str(self.mod) + 'e^' + str(self.phase)\n",
    "        return s\n",
    "           "
   ]
  },
  {
   "cell_type": "markdown",
   "metadata": {
    "slideshow": {
     "slide_type": "slide"
    }
   },
   "source": [
    "Construction of an instance, an object of class Complex:"
   ]
  },
  {
   "cell_type": "code",
   "execution_count": 3,
   "metadata": {
    "slideshow": {
     "slide_type": "fragment"
    }
   },
   "outputs": [
    {
     "name": "stdout",
     "output_type": "stream",
     "text": [
      "atributes of object x : 1.0 3.141592653589793\n",
      " x is of type  <class '__main__.Complex'>\n",
      " x has as real part :  -1.0\n",
      " x has as imag part :  1.2246467991473532e-16\n"
     ]
    }
   ],
   "source": [
    "## construction \n",
    "x = Complex(1., math.pi)\n",
    "print('atributes of object x :', x.mod, x.phase)\n",
    "print(' x is of type ', type(x))\n",
    "print(' x has as real part : ', x.real())\n",
    "print(' x has as imag part : ', x.img())"
   ]
  },
  {
   "cell_type": "markdown",
   "metadata": {
    "slideshow": {
     "slide_type": "slide"
    }
   },
   "source": [
    "Accessing its atributes"
   ]
  },
  {
   "cell_type": "code",
   "execution_count": 4,
   "metadata": {
    "slideshow": {
     "slide_type": "fragment"
    }
   },
   "outputs": [
    {
     "name": "stdout",
     "output_type": "stream",
     "text": [
      "real part  -1.0 , imaginary part  1.2246467991473532e-16\n"
     ]
    }
   ],
   "source": [
    "# accesing \n",
    "print('real part ', x.real(), ', imaginary part ', x.img())"
   ]
  },
  {
   "cell_type": "markdown",
   "metadata": {
    "slideshow": {
     "slide_type": "slide"
    }
   },
   "source": [
    "Operating between *Complex* objects"
   ]
  },
  {
   "cell_type": "code",
   "execution_count": 5,
   "metadata": {
    "slideshow": {
     "slide_type": "fragment"
    }
   },
   "outputs": [
    {
     "name": "stdout",
     "output_type": "stream",
     "text": [
      "1.4142135623730951e^0.7853981633974484\n"
     ]
    }
   ],
   "source": [
    "x = Complex(1., 0.)\n",
    "y = Complex(1., math.pi/2)\n",
    "\n",
    "z = x + y\n",
    "print(z)"
   ]
  },
  {
   "cell_type": "markdown",
   "metadata": {
    "slideshow": {
     "slide_type": "slide"
    }
   },
   "source": [
    "The class syntax start with *class Name:*, in our case *def Complex:* and it follows the definition of the methods as indented functions. They are defined inside the *namespace* of the class *Complex*.\n",
    "\n",
    "The class and its methods are commented using the *\"\"\"comment\"\"\"* syntax just after the definition. The *help()* method will then use these comments to print the information when invoqued. \n",
    "\n",
    "Let's see the class definition with more detail now:\n"
   ]
  },
  {
   "cell_type": "markdown",
   "metadata": {
    "slideshow": {
     "slide_type": "slide"
    }
   },
   "source": [
    "### 1.2 The constructor \n",
    "\n",
    "The constructor is the __init()__ method. Here it takes three arguments, *mod* and *phase*, and sets them as attributes, via the assigment *'='* to the first argument **self**, that the variable that holds the object (we will see it later again). Therefore, *init()* sets the attributes of the object.\n",
    "\n",
    "To invoque *init()* we use the name of the class. We create object using *ClassName()*. Here is the example of how we create an instance of our *Complex* number."
   ]
  },
  {
   "cell_type": "code",
   "execution_count": 6,
   "metadata": {
    "slideshow": {
     "slide_type": "fragment"
    }
   },
   "outputs": [
    {
     "data": {
      "text/plain": [
       "True"
      ]
     },
     "execution_count": 6,
     "metadata": {},
     "output_type": "execute_result"
    }
   ],
   "source": [
    "x = Complex(1, .0)\n",
    "isinstance(x, Complex)"
   ]
  },
  {
   "cell_type": "markdown",
   "metadata": {
    "slideshow": {
     "slide_type": "slide"
    }
   },
   "source": [
    "You should notice that we do not pass the first argument *self* to create the object! *self* here is a dummy argument. \n",
    "\n",
    "Doing *Complex()*, the compiler creates an object of type *Complex* and assigned to the variable *x*."
   ]
  },
  {
   "cell_type": "markdown",
   "metadata": {
    "slideshow": {
     "slide_type": "slide"
    }
   },
   "source": [
    "### 1.3 The self\n",
    "\n",
    "*self* is in fact the first argument of all the methods! As in the constructor, *self* is the variable associated to the object.\n",
    "\n",
    "Inside any method of the class, *self* is in fact the variable that holds the object. And to access its attributes or to apply any method we can just use the *'.'* operator onto *self*! \n",
    "\n",
    "Look now at the body of  the *prod()* method. It takes as first argument *self*, and second a variable *y*, that is expected to be also a *Complex* type. The method access the module and phase of the object *self* and the object *y*, using the *'.'* operator and make the product of the module and the sum of the phase, and it finally creates another object of *Complex* type and inmmediately returns it! \n",
    "\n",
    "Let's see now the following code:"
   ]
  },
  {
   "cell_type": "code",
   "execution_count": 7,
   "metadata": {
    "slideshow": {
     "slide_type": "slide"
    }
   },
   "outputs": [
    {
     "name": "stdout",
     "output_type": "stream",
     "text": [
      "x   =  1.0e^1.5707963267948966\n",
      "x^c =  1.0e^-1.5707963267948966\n",
      "x^c =  1.0e^-1.5707963267948966\n"
     ]
    }
   ],
   "source": [
    "x = Complex(1., math.pi/2.)\n",
    "print('x   = ', x)\n",
    "xc = x.conjugate()\n",
    "print('x^c = ', xc)\n",
    "xc = Complex.conjugate(x)\n",
    "print('x^c = ', xc)"
   ]
  },
  {
   "cell_type": "markdown",
   "metadata": {
    "slideshow": {
     "slide_type": "slide"
    }
   },
   "source": [
    "\n",
    "Notice that the statement *Complex.conjugate(x)*, is like here a funtion *conjungate()* defined in a namespace *Complex* applied to an argument *x*, of type *Complex*. Looking at the class as a namespace and the methods as functions inside the namespace, the argument *self* makes now more sense! It is the argument of the function!\n",
    "\n",
    "To apply a method into an object, we can either do *Class.method(object)* or *object.method()* both statements are equivalent. We can either do: *x.conjugate()*, if *x* is an instance of Complex, or do *Complex.conjugate(x)*! \n",
    "\n",
    "But the OO programming prefers: *object.method()*"
   ]
  },
  {
   "cell_type": "markdown",
   "metadata": {
    "slideshow": {
     "slide_type": "slide"
    }
   },
   "source": [
    "### 1.4 Operations\n",
    "\n",
    "Operations are defined using the special methods, for example __ add __ is associated to the *'+'* operator. \n",
    "\n",
    "Let's create now to complex numbers, *x, y*, add then, and compute the module and the phase of the resulting addition."
   ]
  },
  {
   "cell_type": "code",
   "execution_count": 8,
   "metadata": {
    "slideshow": {
     "slide_type": "fragment"
    }
   },
   "outputs": [
    {
     "name": "stdout",
     "output_type": "stream",
     "text": [
      "z =  1.4142135623730951e^0.7853981633974484\n",
      "abs(z) =  1.4142135623730951\n",
      "z phase (1/pi) =  0.25000000000000006\n"
     ]
    }
   ],
   "source": [
    "x = Complex(1.,0)\n",
    "y = Complex(1., math.pi/2.)\n",
    "z = x + y\n",
    "print('z = ', z)\n",
    "print('abs(z) = ', abs(z))\n",
    "print('z phase (1/pi) = ', z.phase/math.pi)"
   ]
  },
  {
   "cell_type": "markdown",
   "metadata": {
    "slideshow": {
     "slide_type": "slide"
    }
   },
   "source": [
    "Here are the list of the special methods and the operation of builtin function associated to them (section 3.4): https://docs.python.org/3.7/reference/datamodel.html#special-method-names"
   ]
  },
  {
   "cell_type": "markdown",
   "metadata": {
    "slideshow": {
     "slide_type": "slide"
    }
   },
   "source": [
    "### 1.5 Serializing the class\n",
    "\n",
    "Two important special methods are __ str __ that serializes the object and converts it into a string, and __ repr __ that does the same but is used with the interpreter to print into the output.\n",
    "\n",
    "When a class has a **str** method, it can be printed!"
   ]
  },
  {
   "cell_type": "code",
   "execution_count": 9,
   "metadata": {
    "slideshow": {
     "slide_type": "fragment"
    }
   },
   "outputs": [
    {
     "name": "stdout",
     "output_type": "stream",
     "text": [
      "1.4142135623730951e^0.7853981633974484  is str?  True\n"
     ]
    }
   ],
   "source": [
    "sx = str(z)\n",
    "print(sx, ' is str? ', isinstance(sx, str))"
   ]
  },
  {
   "cell_type": "markdown",
   "metadata": {
    "slideshow": {
     "slide_type": "slide"
    }
   },
   "source": [
    "### Exercises\n",
    "\n",
    "  1. Finish the implementation of a class *Complex*. Consider first the methods you want for this class, then implement them.\n",
    "  \n",
    "  2. Implement class *Vector* and *Matrix* using python lists. First define the attributes and methods, then define a set of test-functions to verify the code, implement the methods and finally ensure that they pass your tests.\n",
    "  \n",
    "  3. Define a class for 1D histogram. Define its attributes and methods. Implement them.\n",
    "  \n",
    "  4. Define a class for a bank account and its movements. Define a class for a bank holding several bank accounts. Define its attributes and methods. "
   ]
  },
  {
   "cell_type": "code",
   "execution_count": 48,
   "metadata": {
    "slideshow": {
     "slide_type": "slide"
    }
   },
   "outputs": [],
   "source": [
    "import math\n",
    "\n",
    "class Vector3D:\n",
    "    \n",
    "    def __init__(self, x, y, z):\n",
    "        \"\"\" constructor of a Vector3D. Inputs: x, y, z coordinates\n",
    "        \"\"\"\n",
    "        \n",
    "        self.x = x\n",
    "        self.y = y\n",
    "        self.z = z\n",
    "        \n",
    "        return\n",
    "    \n",
    "    def __str__(self):\n",
    "        \"\"\" convert a Vector3D to a string\n",
    "        \"\"\"\n",
    "        \n",
    "        ss = '(' + str(self.x) + ', ' + str(self.y) + ', ' + str(self.z) + ')'\n",
    "        \n",
    "        return ss\n",
    "    \n",
    "    def __add__(self, b):\n",
    "        \"\"\" add two 3D vectors\n",
    "        \"\"\"\n",
    "        \n",
    "        assert isinstance(b, Vector3D)        \n",
    "        x = self.x + b.x\n",
    "        y = self.y + b.y\n",
    "        z = self.z + b.z\n",
    "        \n",
    "        return Vector3D(x, y, z)\n",
    "\n",
    "    def dot(self, b):\n",
    "        \"\"\" scalar product between two vectors\n",
    "        \"\"\"\n",
    "        \n",
    "        assert isinstance(b, Vector3D)\n",
    "        val = self.x * b.x + self.y * b.y + self.z * b.z\n",
    "        \n",
    "        return val\n",
    "    \n",
    "    def __mul__(self, b):\n",
    "        \n",
    "        if (isinstance(b, Vector3D)):\n",
    "            return self.dot(b)\n",
    "        \n",
    "        assert isinstance(b, int) or isinstance(b, float) or isinstance(b, complex)\n",
    "        \n",
    "        return Vector3D( b * self.x, b * self.y, b * self.z)\n",
    "\n",
    "    def __abs__(self):\n",
    "    \n",
    "        return math.sqrt( self.x * self.x + self.y * self.y + self.z * self.z )\n",
    "    \n",
    "        return math.sqrt(self * self)    \n",
    "    \n",
    "    \n",
    "    def __eq__(self, b):\n",
    "        \n",
    "        assert isinstance(b, Vector3D)\n",
    "        \n",
    "        return self.x == b.x and self.y  == b.y and self.z == b.z\n",
    "    \n",
    "    def __rmul__(self, b):\n",
    "        \n",
    "        return self * b\n",
    "    \n",
    "    def __truediv__(self, b):\n",
    "                \n",
    "        return self * (1./b)\n",
    "    \n",
    "    \n",
    "    def __rtruediv__(self, b):\n",
    "        \n",
    "        return self / b\n",
    "    \n",
    "    def __sub__(self, b):\n",
    "        \n",
    "        return self  + (- 1. * b)\n",
    "    \n",
    "    "
   ]
  },
  {
   "cell_type": "code",
   "execution_count": 50,
   "metadata": {},
   "outputs": [
    {
     "name": "stdout",
     "output_type": "stream",
     "text": [
      "1.0 1.0 1.0\n",
      "0.0 0.0 0.0\n",
      "(2.0, 0.0, 0.0) (1.0, 1.0, 0.0) (1.0, 0.0, 1.0)\n",
      "(0.0, 0.0, 0.0) (1.0, -1.0, 0.0) (1.0, -1.0, 0.0)\n",
      "1.0 1.0 1.0\n",
      "1.4142135623730951 1.4142135623730951 1.7320508075688772\n",
      "(2j, 0j, 0j) (2j, 0j, 0j)\n",
      "(-0.5j, 0j, 0j) (-0.5j, 0j, 0j)\n",
      "True True True\n"
     ]
    }
   ],
   "source": [
    "iv, jv, kv = Vector3D(1., 0., 0.), Vector3D(0., 1., 0.), Vector3D(0., 0., 1.)\n",
    "a, b       = -1., 2.j\n",
    "\n",
    "print(iv * iv, jv * jv, kv * kv)\n",
    "\n",
    "print(iv * jv, jv * kv, kv * iv)\n",
    "\n",
    "print(iv + iv, iv + jv, iv + kv)\n",
    "    \n",
    "print(iv - iv, iv - jv, iv - jv)    \n",
    "\n",
    "print(abs(iv), abs(jv), abs(kv))\n",
    "\n",
    "print(abs(iv + jv), abs (iv - jv), abs(iv + jv - kv))\n",
    "\n",
    "print(iv * b, b * iv)\n",
    "\n",
    "print(iv / b, b / iv)\n",
    "\n",
    "print(iv == iv, jv == jv, kv == kv)"
   ]
  },
  {
   "cell_type": "markdown",
   "metadata": {
    "slideshow": {
     "slide_type": "slide"
    }
   },
   "source": [
    "#### Appendix:\n",
    "\n",
    "You can convert your object into a dictionary with the atrributes names as keys of a dictionary with the functions *vars*\n"
   ]
  },
  {
   "cell_type": "code",
   "execution_count": 8,
   "metadata": {},
   "outputs": [],
   "source": [
    "class Vector:\n",
    "    \n",
    "    \n",
    "    def __init__(self, a):\n",
    "        \n",
    "        assert isinstance(a, list) or isinstance(a, tuple) or isinstance(a, Vector)\n",
    "                \n",
    "        self.a = list(a)\n",
    "        \n",
    "        return        \n",
    "        \n",
    "    \n",
    "    def __getitem__(self, i):\n",
    "        \n",
    "        return self.a[i]\n",
    "    \n",
    "    \n",
    "    def __setitem__(self, i, xi):\n",
    "        \n",
    "        self.a[i] = xi\n",
    "        return\n",
    "    \n",
    "    \n",
    "    def __len__(self):\n",
    "        \n",
    "        return len(self.a)\n",
    "    "
   ]
  },
  {
   "cell_type": "code",
   "execution_count": 9,
   "metadata": {
    "slideshow": {
     "slide_type": "slide"
    }
   },
   "outputs": [
    {
     "name": "stdout",
     "output_type": "stream",
     "text": [
      "3\n"
     ]
    }
   ],
   "source": [
    "a = [1, 2, 3]\n",
    "\n",
    "va = Vector(a)\n",
    "\n",
    "va[1] = 3\n",
    "\n",
    "print(va[1])\n"
   ]
  },
  {
   "cell_type": "code",
   "execution_count": 10,
   "metadata": {
    "slideshow": {
     "slide_type": "fragment"
    }
   },
   "outputs": [
    {
     "name": "stdout",
     "output_type": "stream",
     "text": [
      "{'mod': 1.0, 'phase': 1.5707963267948966}\n"
     ]
    }
   ],
   "source": [
    "xdata = vars(x)\n",
    "print(xdata)"
   ]
  },
  {
   "cell_type": "markdown",
   "metadata": {
    "slideshow": {
     "slide_type": "slide"
    }
   },
   "source": [
    "You can also set and get the atrributes via the name using: *getattr*, *setattr*"
   ]
  },
  {
   "cell_type": "code",
   "execution_count": 11,
   "metadata": {
    "slideshow": {
     "slide_type": "fragment"
    }
   },
   "outputs": [
    {
     "name": "stdout",
     "output_type": "stream",
     "text": [
      "2e^1.5707963267948966\n",
      "2e^1.5707963267948966\n"
     ]
    }
   ],
   "source": [
    "setattr(x, 'mod', 2)\n",
    "print(x)\n",
    "setattr(x, 'phase', math.pi/2)\n",
    "print(x)"
   ]
  },
  {
   "cell_type": "code",
   "execution_count": null,
   "metadata": {},
   "outputs": [],
   "source": []
  }
 ],
 "metadata": {
  "anaconda-cloud": {},
  "celltoolbar": "Slideshow",
  "kernelspec": {
   "display_name": "Python 3",
   "language": "python",
   "name": "python3"
  },
  "language_info": {
   "codemirror_mode": {
    "name": "ipython",
    "version": 3
   },
   "file_extension": ".py",
   "mimetype": "text/x-python",
   "name": "python",
   "nbconvert_exporter": "python",
   "pygments_lexer": "ipython3",
   "version": "3.8.8"
  }
 },
 "nbformat": 4,
 "nbformat_minor": 1
}
