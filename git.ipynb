{
 "cells": [
  {
   "cell_type": "markdown",
   "id": "3f9bd5b9",
   "metadata": {
    "slideshow": {
     "slide_type": "slide"
    }
   },
   "source": [
    "# Introduction to Git\n",
    "\n",
    "This notebook serves as an **interactive guide and slide deck** to learn how to use Git."
   ]
  },
  {
   "cell_type": "markdown",
   "id": "4186822f",
   "metadata": {
    "slideshow": {
     "slide_type": "slide"
    }
   },
   "source": [
    "## 1. What is Git?\n",
    "\n",
    "- A **version control system**.\n",
    "- Allows teams to collaborate without losing work.\n",
    "- Keeps a history of all files and versions.\n",
    "\n",
    "💡 Think of Git as a **time machine for your code**."
   ]
  },
  {
   "cell_type": "markdown",
   "id": "98f512e0",
   "metadata": {
    "slideshow": {
     "slide_type": "slide"
    }
   },
   "source": [
    "## 2. Initial Configuration\n",
    "\n",
    "First, set up your name and email (only once per computer)."
   ]
  },
  {
   "cell_type": "code",
   "execution_count": null,
   "id": "12f8abd6",
   "metadata": {
    "slideshow": {
     "slide_type": "fragment"
    }
   },
   "outputs": [],
   "source": [
    "#!git config --global user.name \"Your Name\"\n",
    "#!git config --global user.email \"your@email.com\""
   ]
  },
  {
   "cell_type": "markdown",
   "id": "c61f86c1",
   "metadata": {
    "slideshow": {
     "slide_type": "slide"
    }
   },
   "source": [
    "## 3. Create a Local Repository\n",
    "\n",
    "We create a folder and turn it into a Git repository."
   ]
  },
  {
   "cell_type": "code",
   "execution_count": 1,
   "id": "4725e1c2",
   "metadata": {
    "slideshow": {
     "slide_type": "fragment"
    }
   },
   "outputs": [
    {
     "name": "stdout",
     "output_type": "stream",
     "text": [
      "/Users/hernando/work/docencia/master/Fisica_Computacional/USC-FC/my_project\n",
      "\u001b[33mhint: Using 'master' as the name for the initial branch. This default branch name\u001b[m\n",
      "\u001b[33mhint: is subject to change. To configure the initial branch name to use in all\u001b[m\n",
      "\u001b[33mhint: of your new repositories, which will suppress this warning, call:\u001b[m\n",
      "\u001b[33mhint: \u001b[m\n",
      "\u001b[33mhint: \tgit config --global init.defaultBranch <name>\u001b[m\n",
      "\u001b[33mhint: \u001b[m\n",
      "\u001b[33mhint: Names commonly chosen instead of 'master' are 'main', 'trunk' and\u001b[m\n",
      "\u001b[33mhint: 'development'. The just-created branch can be renamed via this command:\u001b[m\n",
      "\u001b[33mhint: \u001b[m\n",
      "\u001b[33mhint: \tgit branch -m <name>\u001b[m\n",
      "Initialized empty Git repository in /Users/hernando/work/docencia/master/Fisica_Computacional/USC-FC/my_project/.git/\n"
     ]
    }
   ],
   "source": [
    "!mkdir my_project\n",
    "%cd my_project\n",
    "!git init"
   ]
  },
  {
   "cell_type": "markdown",
   "id": "9c81040c",
   "metadata": {
    "slideshow": {
     "slide_type": "slide"
    }
   },
   "source": [
    "### Saving Changes\n",
    "\n",
    "1. Check status: `git status`\n",
    "2. Add files: `git add file.txt`\n",
    "3. Save changes: `git commit -m \"message\"`"
   ]
  },
  {
   "cell_type": "code",
   "execution_count": 2,
   "id": "f349e54d",
   "metadata": {
    "slideshow": {
     "slide_type": "fragment"
    }
   },
   "outputs": [
    {
     "name": "stdout",
     "output_type": "stream",
     "text": [
      "On branch master\n",
      "\n",
      "No commits yet\n",
      "\n",
      "Untracked files:\n",
      "  (use \"git add <file>...\" to include in what will be committed)\n",
      "\t\u001b[31mhello.py\u001b[m\n",
      "\n",
      "nothing added to commit but untracked files present (use \"git add\" to track)\n",
      "[master (root-commit) cb174e8] First commit: initial script\n",
      " 1 file changed, 1 insertion(+)\n",
      " create mode 100644 hello.py\n"
     ]
    }
   ],
   "source": [
    "!echo 'print(\"Hello Git\")' > hello.py\n",
    "!git status\n",
    "!git add hello.py\n",
    "!git commit -m \"First commit: initial script\""
   ]
  },
  {
   "cell_type": "markdown",
   "id": "be12ca49",
   "metadata": {
    "slideshow": {
     "slide_type": "slide"
    }
   },
   "source": [
    "## 4. Connect to a Remote Repository (GitHub/GitLab)\n",
    "\n",
    "1. Create a repo on GitHub.\n",
    "2. Connect it:\n",
    "   ```bash\n",
    "   git remote add origin REPO_URL\n",
    "   ```\n",
    "3. Push changes:\n",
    "   ```bash\n",
    "   git push -u origin main\n",
    "   ```"
   ]
  },
  {
   "cell_type": "markdown",
   "id": "eed468fc",
   "metadata": {
    "slideshow": {
     "slide_type": "slide"
    }
   },
   "source": [
    "## 5. Basic Workflow\n",
    "\n",
    "👉 Edit → `git add` → `git commit` → `git push`\n",
    "\n",
    "To fetch updates from others: `git pull`"
   ]
  },
  {
   "cell_type": "markdown",
   "id": "a6f1e91c",
   "metadata": {
    "slideshow": {
     "slide_type": "slide"
    }
   },
   "source": [
    "## 6. Branches and Collaboration\n",
    "\n",
    "- Create branch: `git branch new_branch`\n",
    "- Switch branch: `git checkout new_branch`\n",
    "- Merge branches: `git merge other_branch`\n",
    "\n",
    "💡 Branches are like **parallel universes** of your project."
   ]
  },
  {
   "cell_type": "code",
   "execution_count": 3,
   "id": "a3233d78",
   "metadata": {
    "slideshow": {
     "slide_type": "fragment"
    }
   },
   "outputs": [
    {
     "name": "stdout",
     "output_type": "stream",
     "text": [
      "Switched to a new branch 'test'\n",
      "[test 34e5135] Added new function in test branch\n",
      " 1 file changed, 1 insertion(+)\n",
      " create mode 100644 function.py\n",
      "error: pathspec 'main' did not match any file(s) known to git\n",
      "Already up to date.\n"
     ]
    }
   ],
   "source": [
    "!git checkout -b test\n",
    "!echo 'print(\"New function\")' > function.py\n",
    "!git add function.py\n",
    "!git commit -m \"Added new function in test branch\"\n",
    "!git checkout main\n",
    "!git merge test"
   ]
  },
  {
   "cell_type": "markdown",
   "id": "1e79ef24",
   "metadata": {},
   "source": [
    "## 7. Reading the story\n",
    "\n",
    "💡 How to see the story of the repository:\n",
    "\n",
    "* GitHub web → Commits o Insights → Network.\n",
    "\n",
    "* Terminal → git log --graph.\n",
    "\n",
    "* Pro → GitKraken, Sourcetree, o VS Code con Git Graph.\n",
    "\n",
    "\n",
    "Use:\n",
    "\n",
    "!git log --oneline --graph --all\n"
   ]
  },
  {
   "cell_type": "code",
   "execution_count": 4,
   "id": "b99d7096",
   "metadata": {},
   "outputs": [
    {
     "name": "stdout",
     "output_type": "stream",
     "text": [
      "* \u001b[33m34e5135\u001b[m\u001b[33m (\u001b[m\u001b[1;36mHEAD -> \u001b[m\u001b[1;32mtest\u001b[m\u001b[33m)\u001b[m Added new function in test branch\n",
      "* \u001b[33mcb174e8\u001b[m\u001b[33m (\u001b[m\u001b[1;32mmaster\u001b[m\u001b[33m)\u001b[m First commit: initial script\n"
     ]
    }
   ],
   "source": [
    "!git log --oneline --graph --all"
   ]
  },
  {
   "cell_type": "markdown",
   "id": "c1f41416",
   "metadata": {
    "slideshow": {
     "slide_type": "slide"
    }
   },
   "source": [
    "## Conclusion\n",
    "\n",
    "You have learned:\n",
    "- How to configure Git\n",
    "- How to create repositories\n",
    "- How to make commits\n",
    "- How to connect with GitHub\n",
    "- How to use branches and merge changes\n",
    "\n",
    "✨ Now you can use Git in your university and research projects."
   ]
  },
  {
   "cell_type": "markdown",
   "id": "23241ce8",
   "metadata": {},
   "source": [
    "## 🎯 Ejercicio\n",
    "\n",
    "* create a repository in GitHub\n",
    "\n",
    "* fork a repository from your companion\n",
    "\n",
    "* add a module for a function and a module to do test to that repository\n",
    "\n",
    "* do a pull request\n",
    "\n",
    "* verify that the pull request is correct\n",
    "\n",
    "* merge it"
   ]
  }
 ],
 "metadata": {
  "kernelspec": {
   "display_name": "base",
   "language": "python",
   "name": "python3"
  },
  "language_info": {
   "codemirror_mode": {
    "name": "ipython",
    "version": 3
   },
   "file_extension": ".py",
   "mimetype": "text/x-python",
   "name": "python",
   "nbconvert_exporter": "python",
   "pygments_lexer": "ipython3",
   "version": "3.9.13"
  },
  "rise": {
   "slideNumber": true,
   "start_slideshow_at": "selected",
   "theme": "simple",
   "transition": "fade"
  }
 },
 "nbformat": 4,
 "nbformat_minor": 5
}
